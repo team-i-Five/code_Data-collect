{
 "cells": [
  {
   "cell_type": "code",
   "execution_count": 33,
   "id": "a64d923d-8f1f-4e6c-ab19-f7b67963abe1",
   "metadata": {},
   "outputs": [
    {
     "name": "stdout",
     "output_type": "stream",
     "text": [
      "Collecting lxml\n",
      "  Obtaining dependency information for lxml from https://files.pythonhosted.org/packages/d8/e4/80ed0b5ac164fe452ceffb6733f008770e34878bc6f1104bb0f2266c1cb8/lxml-4.9.3-cp312-cp312-manylinux_2_28_x86_64.whl.metadata\n",
      "  Downloading lxml-4.9.3-cp312-cp312-manylinux_2_28_x86_64.whl.metadata (3.8 kB)\n",
      "Downloading lxml-4.9.3-cp312-cp312-manylinux_2_28_x86_64.whl (8.0 MB)\n",
      "\u001b[2K   \u001b[90m━━━━━━━━━━━━━━━━━━━━━━━━━━━━━━━━━━━━━━━━\u001b[0m \u001b[32m8.0/8.0 MB\u001b[0m \u001b[31m16.5 MB/s\u001b[0m eta \u001b[36m0:00:00\u001b[0m00:01\u001b[0m00:01\u001b[0m\n",
      "\u001b[?25hInstalling collected packages: lxml\n",
      "Successfully installed lxml-4.9.3\n",
      "\u001b[33mWARNING: Running pip as the 'root' user can result in broken permissions and conflicting behaviour with the system package manager. It is recommended to use a virtual environment instead: https://pip.pypa.io/warnings/venv\u001b[0m\u001b[33m\n",
      "\u001b[0m\n",
      "\u001b[1m[\u001b[0m\u001b[34;49mnotice\u001b[0m\u001b[1;39;49m]\u001b[0m\u001b[39;49m A new release of pip is available: \u001b[0m\u001b[31;49m23.2.1\u001b[0m\u001b[39;49m -> \u001b[0m\u001b[32;49m23.3.1\u001b[0m\n",
      "\u001b[1m[\u001b[0m\u001b[34;49mnotice\u001b[0m\u001b[1;39;49m]\u001b[0m\u001b[39;49m To update, run: \u001b[0m\u001b[32;49mpip install --upgrade pip\u001b[0m\n"
     ]
    }
   ],
   "source": [
    "!pip install lxml"
   ]
  },
  {
   "cell_type": "code",
   "execution_count": 1,
   "id": "cdff5cb1-6f32-49a4-b66d-b42dc6bb23c8",
   "metadata": {},
   "outputs": [],
   "source": [
    "import requests\n",
    "from bs4 import BeautifulSoup\n",
    "import pandas as pd\n",
    "import lxml"
   ]
  },
  {
   "cell_type": "markdown",
   "id": "3850235e-d26e-4b15-b161-02da8915d1d6",
   "metadata": {},
   "source": [
    "# 예스24티켓"
   ]
  },
  {
   "cell_type": "code",
   "execution_count": 2,
   "id": "edd48417-34dd-4af1-88bc-378eea75e3ba",
   "metadata": {},
   "outputs": [],
   "source": [
    "# yes_url = \"http://ticket.yes24.com/New/Rank/Ranking.aspx?genre=15457\"\n",
    "\n",
    "yes_url = \"http://ticket.yes24.com/New/Rank/Ajax/RankList.aspx\"\n",
    "\n",
    "payload = {\n",
    "    \"pt\": \"1\"\n",
    "    ,\"ci\": \"16\"\n",
    "    ,\"et\": \"2023-11-12\"\n",
    "}\n",
    "\n",
    "header = {\n",
    "    \"User-Agent\": \"Mozilla/5.0 (Windows NT 10.0; Win64; x64) AppleWebKit/537.36 (KHTML, like Gecko) Chrome/119.0.0.0 Safari/537.36\"\n",
    "}"
   ]
  },
  {
   "cell_type": "code",
   "execution_count": 3,
   "id": "27159fa8-738f-4651-88cb-7c3b45e3061d",
   "metadata": {},
   "outputs": [
    {
     "data": {
      "text/plain": [
       "<Response [200]>"
      ]
     },
     "execution_count": 3,
     "metadata": {},
     "output_type": "execute_result"
    }
   ],
   "source": [
    "r1 = requests.post(yes_url, payload ,headers= header)\n",
    "r1.encoding = 'utf-8'\n",
    "r1"
   ]
  },
  {
   "cell_type": "code",
   "execution_count": 4,
   "id": "c2ea23b7-a828-4060-b0f4-898fe9dcf053",
   "metadata": {},
   "outputs": [
    {
     "data": {
      "text/plain": [
       "<div class=\"rank-best\"><div><a href=\"/pages/perf/detail/detail.aspx?IdPerf=47290\" title=\"뮤지컬 〈드라이 플라워〉\"><span class=\"rank-best-img\"><img alt=\"뮤지컬 〈드라이 플라워〉\" class=\"rank-best-img\" src=\"http://tkfile.yes24.com/upload2/perfblog/202309/20230927/20230927-47290.jpg\"/></span><p class=\"rlb-tit\">뮤지컬 〈드라이 플라워〉</p><p class=\"rlb-sub-tit\">2023.11.07~2024.01.07<br/>대학로 드림아트센터 3관</p><p class=\"rank-best-point\"><strong>21.3%</strong><span class=\"like-point\">138</span><span class=\"star-point\"><em style=\"width:62px;\"></em>4</span></p><p class=\"rank-best-number\"><span>1위</span><span class=\"rank-best-number-up\">1</span>&gt;</p><p class=\"rank-best-tag\">단독</p></a></div><div><a href=\"/pages/perf/detail/detail.aspx?IdPerf=47420\" title=\"화가시리즈 - 뮤지컬 〈모딜리아니〉\"><span class=\"rank-best-img\"><img alt=\"화가시리즈 - 뮤지컬 〈모딜리아니〉\" class=\"rank-best-img\" src=\"http://tkfile.yes24.com/upload2/perfblog/202310/20231017/20231017-47420.jpg\"/></span><p class=\"rlb-tit\">화가시리즈 - 뮤지컬 〈모딜리아니〉</p><p class=\"rlb-sub-tit\">2023.12.09~2024.03.10<br/>서경대학교 공연예술센터 스콘2관</p><p class=\"rank-best-point\"><strong>18%</strong><span class=\"like-point\">55</span></p><p class=\"rank-best-number\"><span>2위</span><span class=\"rank-best-number-down\">1</span>&gt;</p></a></div><div><a href=\"/pages/perf/detail/detail.aspx?IdPerf=46305\" title=\"태양의서커스 〈루치아〉\"><span class=\"rank-best-img\"><img alt=\"태양의서커스 〈루치아〉\" class=\"rank-best-img\" src=\"http://tkfile.yes24.com/upload2/perfblog/202308/20230804/20230804-46305.jpg\"/></span><p class=\"rlb-tit\">태양의서커스 〈루치아〉</p><p class=\"rlb-sub-tit\">2023.10.25~2023.12.31<br/>잠실종합운동장 내 빅탑</p><p class=\"rank-best-point\"><strong>8.3%</strong><span class=\"like-point\">323</span><span class=\"star-point\"><em style=\"width:62px;\"></em>4</span></p><p class=\"rank-best-number\"><span>3위</span><span class=\"rank-best-number-up\">1</span>&gt;</p></a></div></div>\n",
       "<div class=\"rank-list\"><div><div class=\"fluctuation\"><p><span>4위</span></p><p class=\"rank-list-number-up\">1</p></div><div><a href=\"/pages/perf/detail/detail.aspx?IdPerf=46733\"><img alt=\"뮤지컬 〈비더슈탄트〉\" class=\"rank-list-img\" src=\"http://tkfile.yes24.com/upload2/perfblog/202308/20230828/20230828-46733.jpg\"/></a></div><div><p class=\"rank-list-tit\"><a href=\"/pages/perf/detail/detail.aspx?IdPerf=46733\">뮤지컬 〈비더슈탄트〉</a></p><p class=\"rank-list-grade\"><span class=\"like-point\">302</span><span class=\"star-point\"><em style=\"width:62px;\"></em>4</span></p></div><div><p>2023.09.12~2023.11.26<br/>대학로 드림아트센터 1관</p></div><div>4.7%</div></div><div><div class=\"fluctuation\"><p><span>5위</span></p><p class=\"rank-list-number-up\">4</p></div><div><a href=\"/pages/perf/detail/detail.aspx?IdPerf=47438\"><img alt=\"뮤지컬 〈키다리 아저씨〉\" class=\"rank-list-img\" src=\"http://tkfile.yes24.com/upload2/perfblog/202310/20231011/20231011-47438.jpg\"/></a></div><div><p class=\"rank-list-tit\"><a href=\"/pages/perf/detail/detail.aspx?IdPerf=47438\">뮤지컬 〈키다리 아저씨〉</a></p><p class=\"rank-list-grade\"><span class=\"like-point\">169</span></p></div><div><p>2023.12.05~2024.02.25<br/>대학로 드림아트센터 1관</p></div><div>4.7%</div></div><div><div class=\"fluctuation\"><p><span>6위</span></p><p>-</p></div><div><a href=\"/pages/perf/detail/detail.aspx?IdPerf=46671\"><img alt=\"뮤지컬 〈렛미플라이〉\" class=\"rank-list-img\" src=\"http://tkfile.yes24.com/upload2/perfblog/202307/20230731/20230731-46671_1.jpg\"/></a></div><div><p class=\"rank-list-tit\"><a href=\"/pages/perf/detail/detail.aspx?IdPerf=46671\">뮤지컬 〈렛미플라이〉</a></p><p class=\"rank-list-grade\"><span class=\"like-point\">920</span><span class=\"star-point\"><em style=\"width:62px;\"></em>4</span></p></div><div><p>2023.09.26~2023.12.10<br/>예스24스테이지 1관</p></div><div>3.9%</div></div><div><div class=\"fluctuation\"><p><span>7위</span></p><p class=\"rank-list-number-down\">4</p></div><div><a href=\"/pages/perf/detail/detail.aspx?IdPerf=47295\"><img alt=\"뮤지컬 〈컴프롬어웨이〉\" class=\"rank-list-img\" src=\"http://tkfile.yes24.com/upload2/perfblog/202309/20230925/20230925-47295.jpg\"/></a></div><div><p class=\"rank-list-tit\"><a href=\"/pages/perf/detail/detail.aspx?IdPerf=47295\">뮤지컬 〈컴프롬어웨이〉</a></p><p class=\"rank-list-grade\"><span class=\"like-point\">75</span></p></div><div><p>2023.11.28~2024.02.18<br/>광림아트센터 BBCH홀</p></div><div>3.4%</div></div><div><div class=\"fluctuation\"><p><span>8위</span></p><p class=\"rank-list-number-up\">3</p></div><div><a href=\"/pages/perf/detail/detail.aspx?IdPerf=46848\"><img alt=\"뮤지컬 더데빌 : 에덴\" class=\"rank-list-img\" src=\"http://tkfile.yes24.com/upload2/perfblog/202311/20231106/20231106-46848.jpg\"/></a></div><div><p class=\"rank-list-tit\"><a href=\"/pages/perf/detail/detail.aspx?IdPerf=46848\">뮤지컬 더데빌 : 에덴</a></p><p class=\"rank-list-grade\"><span class=\"like-point\">146</span><span class=\"star-point\"><em style=\"width:62px;\"></em>4</span></p></div><div><p>2023.09.21~2023.11.26<br/>대학로 유니플렉스 1관</p></div><div>3.4%</div></div><div><div class=\"fluctuation\"><p><span>9위</span></p><p class=\"rank-list-number-down\">2</p></div><div><a href=\"/pages/perf/detail/detail.aspx?IdPerf=46662\"><img alt=\"뮤지컬 〈칠칠〉\" class=\"rank-list-img\" src=\"http://tkfile.yes24.com/upload2/perfblog/202309/20230918/20230918-46662_1.jpg\"/></a></div><div><p class=\"rank-list-tit\"><a href=\"/pages/perf/detail/detail.aspx?IdPerf=46662\">뮤지컬 〈칠칠〉</a></p><p class=\"rank-list-grade\"><span class=\"like-point\">160</span><span class=\"star-point\"><em style=\"width:62px;\"></em>4</span></p></div><div><p>2023.09.05~2023.11.26<br/>예스24스테이지 2관</p></div><div>3%</div></div><div><div class=\"fluctuation\"><p><span>10위</span></p><p class=\"rank-list-number-new\">new</p></div><div><a href=\"/pages/perf/detail/detail.aspx?IdPerf=47503\"><img alt=\"[천안] 20주년스페셜싱어롱쇼-슈퍼스타 뽀로로드림콘서트\" class=\"rank-list-img\" src=\"http://tkfile.yes24.com/upload2/perfblog/202310/20231016/20231016-47503.jpg\"/></a></div><div><p class=\"rank-list-tit\"><a href=\"/pages/perf/detail/detail.aspx?IdPerf=47503\">[천안] 20주년스페셜싱어롱쇼-슈퍼스타 뽀로로드림콘서트</a></p><p class=\"rank-list-grade\"><span class=\"like-point\">11</span></p></div><div><p>2023.12.23~2023.12.24<br/>성환문화회관</p></div><div>2.3%</div></div><div><div class=\"fluctuation\"><p><span>11위</span></p><p class=\"rank-list-number-up\">3</p></div><div><a href=\"/pages/perf/detail/detail.aspx?IdPerf=47090\"><img alt=\"오페레타 뮤지컬 〈판타지아〉 겨울시즌\" class=\"rank-list-img\" src=\"http://tkfile.yes24.com/upload2/perfblog/202310/20231023/20231023-47090.jpg\"/></a></div><div><p class=\"rank-list-tit\"><a href=\"/pages/perf/detail/detail.aspx?IdPerf=47090\">오페레타 뮤지컬 〈판타지아〉 겨울시즌</a></p><p class=\"rank-list-grade\"><span class=\"like-point\">15</span><span class=\"star-point\"><em style=\"width:78px;\"></em>5</span></p></div><div><p>2023.11.11~2023.12.31<br/>국립중앙박물관 내 극장용</p></div><div>2.1%</div></div><div><div class=\"fluctuation\"><p><span>12위</span></p><p class=\"rank-list-number-down\">4</p></div><div><a href=\"/pages/perf/detail/detail.aspx?IdPerf=47311\"><img alt=\"어른이 뮤지컬 〈난쟁이들〉\" class=\"rank-list-img\" src=\"http://tkfile.yes24.com/upload2/perfblog/202309/20230926/20230926-47311.jpg\"/></a></div><div><p class=\"rank-list-tit\"><a href=\"/pages/perf/detail/detail.aspx?IdPerf=47311\">어른이 뮤지컬 〈난쟁이들〉</a></p><p class=\"rank-list-grade\"><span class=\"like-point\">93</span><span class=\"star-point\"><em style=\"width:62px;\"></em>4</span></p></div><div><p>2023.11.01~2024.01.21<br/>플러스씨어터</p></div><div>2.1%</div></div><div><div class=\"fluctuation\"><p><span>13위</span></p><p>-</p></div><div><a href=\"/pages/perf/detail/detail.aspx?IdPerf=47394\"><img alt=\"태양의서커스 〈루치아〉 - 부산\" class=\"rank-list-img\" src=\"http://tkfile.yes24.com/upload2/perfblog/202310/20231031/20231031-47394_1.jpg\"/></a></div><div><p class=\"rank-list-tit\"><a href=\"/pages/perf/detail/detail.aspx?IdPerf=47394\">태양의서커스 〈루치아〉 - 부산</a></p><p class=\"rank-list-grade\"><span class=\"like-point\">79</span></p></div><div><p>2024.01.13~2024.02.04<br/>신세계 센텀시티 내 빅탑</p></div><div>1.9%</div></div><div><div class=\"fluctuation\"><p><span>14위</span></p><p class=\"rank-list-number-up\">5</p></div><div><a href=\"/pages/perf/detail/detail.aspx?IdPerf=47226\"><img alt=\"2023 〈마리 퀴리〉 - 서울\" class=\"rank-list-img\" src=\"http://tkfile.yes24.com/upload2/perfblog/202309/20230920/20230920-47226.jpg\"/></a></div><div><p class=\"rank-list-tit\"><a href=\"/pages/perf/detail/detail.aspx?IdPerf=47226\">2023 〈마리 퀴리〉 - 서울</a></p><p class=\"rank-list-grade\"><span class=\"like-point\">65</span></p></div><div><p>2023.11.24~2024.02.18<br/>홍익대 대학로 아트센터 대극장</p></div><div>1.8%</div></div><div><div class=\"fluctuation\"><p><span>15위</span></p><p class=\"rank-list-number-up\">11</p></div><div><a href=\"/pages/perf/detail/detail.aspx?IdPerf=47289\"><img alt=\"[고양] 헬로카봇 뮤지컬 시즌7 〈웰컴 투 파라다이스〉\" class=\"rank-list-img\" src=\"http://tkfile.yes24.com/upload2/perfblog/202309/20230926/20230926-47289.jpg\"/></a></div><div><p class=\"rank-list-tit\"><a href=\"/pages/perf/detail/detail.aspx?IdPerf=47289\">[고양] 헬로카봇 뮤지컬 시즌7 〈웰컴 투 파라다이스〉</a></p><p class=\"rank-list-grade\"><span class=\"like-point\">9</span></p></div><div><p>2023.12.02~2023.12.03<br/>고양어울림누리 어울림극장</p></div><div>1.6%</div></div><div><div class=\"fluctuation\"><p><span>16위</span></p><p class=\"rank-list-number-up\">6</p></div><div><a href=\"/pages/perf/detail/detail.aspx?IdPerf=47128\"><img alt=\"[전주 앵콜] 캐치! 티니핑 〈신비한 상자를 열어라!〉\" class=\"rank-list-img\" src=\"http://tkfile.yes24.com/upload2/perfblog/202309/20230913/20230913-47128.jpg\"/></a></div><div><p class=\"rank-list-tit\"><a href=\"/pages/perf/detail/detail.aspx?IdPerf=47128\">[전주 앵콜] 캐치! 티니핑 〈신비한 상자를 열어라!〉</a></p><p class=\"rank-list-grade\"><span class=\"like-point\">15</span></p></div><div><p>2023.11.18~2023.11.19<br/>한국소리문화의전당 모악당</p></div><div>1.6%</div></div><div><div class=\"fluctuation\"><p><span>17위</span></p><p class=\"rank-list-number-up\">11</p></div><div><a href=\"/pages/perf/detail/detail.aspx?IdPerf=47497\"><img alt=\"[고양] 가족뮤지컬 〈고고다이노 - 고고킹의 귀환〉\" class=\"rank-list-img\" src=\"http://tkfile.yes24.com/upload2/perfblog/202310/20231016/20231016-47497.jpg\"/></a></div><div><p class=\"rank-list-tit\"><a href=\"/pages/perf/detail/detail.aspx?IdPerf=47497\">[고양] 가족뮤지컬 〈고고다이노 - 고고킹의 귀환〉</a></p><p class=\"rank-list-grade\"><span class=\"like-point\">21</span></p></div><div><p>2023.12.16~2023.12.17<br/>고양어울림누리 어울림극장</p></div><div>1.2%</div></div><div><div class=\"fluctuation\"><p><span>18위</span></p><p class=\"rank-list-number-down\">8</p></div><div><a href=\"/pages/perf/detail/detail.aspx?IdPerf=47116\"><img alt=\"2023 푸에르자부르타 웨이라 인 서울\" class=\"rank-list-img\" src=\"http://tkfile.yes24.com/upload2/perfblog/202310/20231020/20231020-47116.jpg\"/></a></div><div><p class=\"rank-list-tit\"><a href=\"/pages/perf/detail/detail.aspx?IdPerf=47116\">2023 푸에르자부르타 웨이라 인 서울</a></p><p class=\"rank-list-grade\"><span class=\"like-point\">72</span></p></div><div><p>2023.11.17~2024.02.15<br/>성수문화예술마당 FB씨어터</p></div><div>1.1%</div></div><div><div class=\"fluctuation\"><p><span>19위</span></p><p class=\"rank-list-number-up\">4</p></div><div><a href=\"/pages/perf/detail/detail.aspx?IdPerf=47130\"><img alt=\"뮤지컬 〈빨래〉\" class=\"rank-list-img\" src=\"http://tkfile.yes24.com/upload2/perfblog/202309/20230908/20230908-47130.jpg\"/></a></div><div><p class=\"rank-list-tit\"><a href=\"/pages/perf/detail/detail.aspx?IdPerf=47130\">뮤지컬 〈빨래〉</a></p><p class=\"rank-list-grade\"><span class=\"like-point\">27</span><span class=\"star-point\"><em style=\"width:78px;\"></em>5</span></p></div><div><p>2023.10.12~2024.05.26<br/>대학로 유니플렉스 2관</p></div><div>1.1%</div></div><div><div class=\"fluctuation\"><p><span>20위</span></p><p class=\"rank-list-number-up\">9</p></div><div><a href=\"/pages/perf/detail/detail.aspx?IdPerf=47532\"><img alt=\"[광주] 헬로카봇 뮤지컬 시즌7 〈웰컴 투 파라다이스〉\" class=\"rank-list-img\" src=\"http://tkfile.yes24.com/upload2/perfblog/202310/20231018/20231018-47532.jpg\"/></a></div><div><p class=\"rank-list-tit\"><a href=\"/pages/perf/detail/detail.aspx?IdPerf=47532\">[광주] 헬로카봇 뮤지컬 시즌7 〈웰컴 투 파라다이스〉</a></p><p class=\"rank-list-grade\"><span class=\"like-point\">9</span></p></div><div><p>2023.12.23~2023.12.24<br/>조선대학교 해오름관</p></div><div>1.1%</div></div><div><div class=\"fluctuation\"><p><span>21위</span></p><p class=\"rank-list-number-up\">13</p></div><div><a href=\"/pages/perf/detail/detail.aspx?IdPerf=47250\"><img alt=\"[고양] 뮤지컬 〈JUMP 점프〉\" class=\"rank-list-img\" src=\"http://tkfile.yes24.com/upload2/perfblog/202309/20230925/20230925-47250.jpg\"/></a></div><div><p class=\"rank-list-tit\"><a href=\"/pages/perf/detail/detail.aspx?IdPerf=47250\">[고양] 뮤지컬 〈JUMP 점프〉</a></p><p class=\"rank-list-grade\"></p></div><div><p>2023.12.09~2023.12.10<br/>고양어울림누리 어울림극장</p></div><div>0.9%</div></div><div><div class=\"fluctuation\"><p><span>22위</span></p><p class=\"rank-list-number-down\">1</p></div><div><a href=\"/pages/perf/detail/detail.aspx?IdPerf=47248\"><img alt=\"[광주] 뮤지컬 〈삼총사〉\" class=\"rank-list-img\" src=\"http://tkfile.yes24.com/upload2/perfblog/202309/20230925/20230925-47248.jpg\"/></a></div><div><p class=\"rank-list-tit\"><a href=\"/pages/perf/detail/detail.aspx?IdPerf=47248\">[광주] 뮤지컬 〈삼총사〉</a></p><p class=\"rank-list-grade\"><span class=\"like-point\">26</span></p></div><div><p>2023.12.01~2023.12.03<br/>광주 예술의전당 대극장</p></div><div>0.9%</div></div><div><div class=\"fluctuation\"><p><span>23위</span></p><p class=\"rank-list-number-up\">4</p></div><div><a href=\"/pages/perf/detail/detail.aspx?IdPerf=46765\"><img alt=\"뮤지컬 〈레미제라블〉 - 부산\" class=\"rank-list-img\" src=\"http://tkfile.yes24.com/upload2/perfblog/202310/20231030/20231030-46765.jpg\"/></a></div><div><p class=\"rank-list-tit\"><a href=\"/pages/perf/detail/detail.aspx?IdPerf=46765\">뮤지컬 〈레미제라블〉 - 부산</a></p><p class=\"rank-list-grade\"><span class=\"like-point\">256</span><span class=\"star-point\"><em style=\"width:62px;\"></em>4</span></p></div><div><p>2023.10.11~2023.11.19<br/>드림씨어터</p></div><div>0.9%</div></div><div><div class=\"fluctuation\"><p><span>24위</span></p><p class=\"rank-list-number-up\">19</p></div><div><a href=\"/pages/perf/detail/detail.aspx?IdPerf=47230\"><img alt=\"창작가무극 〈순신〉\" class=\"rank-list-img\" src=\"http://tkfile.yes24.com/upload2/perfblog/202311/20231106/20231106-47230.jpg\"/></a></div><div><p class=\"rank-list-tit\"><a href=\"/pages/perf/detail/detail.aspx?IdPerf=47230\">창작가무극 〈순신〉</a></p><p class=\"rank-list-grade\"><span class=\"like-point\">17</span><span class=\"star-point\"><em style=\"width:78px;\"></em>5</span></p></div><div><p>2023.11.08~2023.11.26<br/>예술의전당 CJ 토월극장</p></div><div>0.8%</div></div><div><div class=\"fluctuation\"><p><span>25위</span></p><p class=\"rank-list-number-up\">11</p></div><div><a href=\"/pages/perf/detail/detail.aspx?IdPerf=47615\"><img alt=\"뮤지컬 〈맥베스〉\" class=\"rank-list-img\" src=\"http://tkfile.yes24.com/upload2/perfblog/202311/20231102/20231102-47615.jpg\"/></a></div><div><p class=\"rank-list-tit\"><a href=\"/pages/perf/detail/detail.aspx?IdPerf=47615\">뮤지컬 〈맥베스〉</a></p><p class=\"rank-list-grade\"><span class=\"like-point\">7</span></p></div><div><p>2023.12.02~2023.12.30<br/>세종문화회관 M씨어터</p></div><div>0.6%</div></div><div><div class=\"fluctuation\"><p><span>26위</span></p><p class=\"rank-list-number-down\">8</p></div><div><a href=\"/pages/perf/detail/detail.aspx?IdPerf=46785\"><img alt=\"뮤지컬 〈삼총사〉\" class=\"rank-list-img\" src=\"http://tkfile.yes24.com/upload2/perfblog/202310/20231023/20231023-46785.jpg\"/></a></div><div><p class=\"rank-list-tit\"><a href=\"/pages/perf/detail/detail.aspx?IdPerf=46785\">뮤지컬 〈삼총사〉</a></p><p class=\"rank-list-grade\"><span class=\"like-point\">227</span><span class=\"star-point\"><em style=\"width:62px;\"></em>4</span></p></div><div><p>2023.09.15~2023.11.19<br/>한전아트센터</p></div><div>0.6%</div></div><div><div class=\"fluctuation\"><p><span>27위</span></p><p class=\"rank-list-number-down\">3</p></div><div><a href=\"/pages/perf/detail/detail.aspx?IdPerf=47533\"><img alt=\"낭만바리케이트 작품 낭독회 〈작곡열전〉\" class=\"rank-list-img\" src=\"http://tkfile.yes24.com/upload2/perfblog/202310/20231018/20231018-47533.jpg\"/></a></div><div><p class=\"rank-list-tag\">단독</p><p class=\"rank-list-tit\"><a href=\"/pages/perf/detail/detail.aspx?IdPerf=47533\">낭만바리케이트 작품 낭독회 〈작곡열전〉</a></p><p class=\"rank-list-grade\"><span class=\"like-point\">48</span><span class=\"star-point\"><em style=\"width:62px;\"></em>4</span></p></div><div><p>2023.11.10~2023.11.13<br/>대학로 드림아트센터 2관</p></div><div>0.5%</div></div><div><div class=\"fluctuation\"><p><span>28위</span></p><p class=\"rank-list-number-down\">12</p></div><div><a href=\"/pages/perf/detail/detail.aspx?IdPerf=47656\"><img alt=\"[창원] 2023 성탄특집 뮤지컬 갈라 콘서트 〈뮤지컬 레전드 빅쇼〉\" class=\"rank-list-img\" src=\"http://tkfile.yes24.com/upload2/perfblog/202311/20231103/20231103-47656.jpg\"/></a></div><div><p class=\"rank-list-tag\">단독</p><p class=\"rank-list-tit\"><a href=\"/pages/perf/detail/detail.aspx?IdPerf=47656\">[창원] 2023 성탄특집 뮤지컬 갈라 콘서트 〈뮤지컬 레전드 빅쇼〉</a></p><p class=\"rank-list-grade\"><span class=\"like-point\">9</span></p></div><div><p>2023.12.17~2023.12.17<br/>창원성산아트홀 대극장</p></div><div>0.5%</div></div><div><div class=\"fluctuation\"><p><span>29위</span></p><p class=\"rank-list-number-down\">14</p></div><div><a href=\"/pages/perf/detail/detail.aspx?IdPerf=47231\"><img alt=\"가족뮤지컬 〈장화 신은 고양이 비긴즈〉 - 플레이버전\" class=\"rank-list-img\" src=\"http://tkfile.yes24.com/upload2/perfblog/202309/20230920/20230920-47231.jpg\"/></a></div><div><p class=\"rank-list-tit\"><a href=\"/pages/perf/detail/detail.aspx?IdPerf=47231\">가족뮤지컬 〈장화 신은 고양이 비긴즈〉 - 플레이버전</a></p><p class=\"rank-list-grade\"><span class=\"like-point\">13</span></p></div><div><p>2023.12.16~2024.02.25<br/>KT&amp;G 상상마당 대치아트홀</p></div><div>0.5%</div></div><div><div class=\"fluctuation\"><p><span>30위</span></p><p class=\"rank-list-number-up\">19</p></div><div><a href=\"/pages/perf/detail/detail.aspx?IdPerf=47660\"><img alt=\"가족매지컬 스크루지 〈크리스마스 캐롤〉\" class=\"rank-list-img\" src=\"http://tkfile.yes24.com/upload2/perfblog/202310/20231030/20231030-47660.jpg\"/></a></div><div><p class=\"rank-list-tit\"><a href=\"/pages/perf/detail/detail.aspx?IdPerf=47660\">가족매지컬 스크루지 〈크리스마스 캐롤〉</a></p><p class=\"rank-list-grade\"><span class=\"like-point\">24</span></p></div><div><p>2023.12.12~2024.01.21<br/>인천어린이과학관 공연장</p></div><div>0.5%</div></div><div><div class=\"fluctuation\"><p><span>31위</span></p><p class=\"rank-list-number-up\">8</p></div><div><a href=\"/pages/perf/detail/detail.aspx?IdPerf=47340\"><img alt=\"[대구]가족뮤지컬〈고양이해결사깜냥-편의점을환하게밝혀라〉\" class=\"rank-list-img\" src=\"http://tkfile.yes24.com/upload2/perfblog/202310/20231011/20231011-47340.jpg\"/></a></div><div><p class=\"rank-list-tit\"><a href=\"/pages/perf/detail/detail.aspx?IdPerf=47340\">[대구]가족뮤지컬〈고양이해결사깜냥-편의점을환하게밝혀라〉</a></p><p class=\"rank-list-grade\"><span class=\"like-point\">4</span></p></div><div><p>2023.12.16~2023.12.17<br/>대구보건대 인당아트홀</p></div><div>0.5%</div></div><div><div class=\"fluctuation\"><p><span>32위</span></p><p class=\"rank-list-number-down\">20</p></div><div><a href=\"/pages/perf/detail/detail.aspx?IdPerf=47762\"><img alt=\"[양산] 가족뮤지컬 〈고고다이노 - 고고킹의 귀환〉\" class=\"rank-list-img\" src=\"http://tkfile.yes24.com/upload2/perfblog/202311/20231108/20231108-47762.jpg\"/></a></div><div><p class=\"rank-list-tit\"><a href=\"/pages/perf/detail/detail.aspx?IdPerf=47762\">[양산] 가족뮤지컬 〈고고다이노 - 고고킹의 귀환〉</a></p><p class=\"rank-list-grade\"><span class=\"like-point\">21</span></p></div><div><p>2024.01.06~2024.01.07<br/>양산문화예술회관 대극장</p></div><div>0.4%</div></div><div><div class=\"fluctuation\"><p><span>33위</span></p><p class=\"rank-list-number-new\">new</p></div><div><a href=\"/pages/perf/detail/detail.aspx?IdPerf=47203\"><img alt=\"[세종]가족뮤지컬〈고양이해결사깜냥-편의점을환하게밝혀라〉\" class=\"rank-list-img\" src=\"http://tkfile.yes24.com/upload2/perfblog/202309/20230915/20230915-47203.jpg\"/></a></div><div><p class=\"rank-list-tit\"><a href=\"/pages/perf/detail/detail.aspx?IdPerf=47203\">[세종]가족뮤지컬〈고양이해결사깜냥-편의점을환하게밝혀라〉</a></p><p class=\"rank-list-grade\"><span class=\"like-point\">3</span></p></div><div><p>2023.11.25~2023.11.25<br/>세종문화예술회관</p></div><div>0.4%</div></div><div><div class=\"fluctuation\"><p><span>34위</span></p><p class=\"rank-list-number-new\">new</p></div><div><a href=\"/pages/perf/detail/detail.aspx?IdPerf=47343\"><img alt=\"[대전] 뮤지컬 〈김종욱 찾기〉\" class=\"rank-list-img\" src=\"http://tkfile.yes24.com/upload2/perfblog/202310/20231004/20231004-47343.jpg\"/></a></div><div><p class=\"rank-list-tit\"><a href=\"/pages/perf/detail/detail.aspx?IdPerf=47343\">[대전] 뮤지컬 〈김종욱 찾기〉</a></p><p class=\"rank-list-grade\"><span class=\"like-point\">2</span></p></div><div><p>2023.12.23~2023.12.25<br/>대전 우송예술회관</p></div><div>0.4%</div></div><div><div class=\"fluctuation\"><p><span>35위</span></p><p class=\"rank-list-number-up\">7</p></div><div><a href=\"/pages/perf/detail/detail.aspx?IdPerf=45927\"><img alt=\"뮤지컬 〈오페라의 유령〉 - 서울\" class=\"rank-list-img\" src=\"http://tkfile.yes24.com/upload2/perfblog/202305/20230511/20230511-45927.jpg\"/></a></div><div><p class=\"rank-list-tit\"><a href=\"/pages/perf/detail/detail.aspx?IdPerf=45927\">뮤지컬 〈오페라의 유령〉 - 서울</a></p><p class=\"rank-list-grade\"><span class=\"like-point\">1767</span><span class=\"star-point\"><em style=\"width:62px;\"></em>4</span></p></div><div><p>2023.07.21~2023.11.19<br/>샤롯데씨어터</p></div><div>0.3%</div></div><div><div class=\"fluctuation\"><p><span>36위</span></p><p class=\"rank-list-number-up\">5</p></div><div><a href=\"/pages/perf/detail/detail.aspx?IdPerf=46909\"><img alt=\"[경주] 이은결 〈MAGIC &amp; ILLUSION〉\" class=\"rank-list-img\" src=\"http://tkfile.yes24.com/upload2/perfblog/202308/20230821/20230821-46909.jpg\"/></a></div><div><p class=\"rank-list-tit\"><a href=\"/pages/perf/detail/detail.aspx?IdPerf=46909\">[경주] 이은결 〈MAGIC &amp; ILLUSION〉</a></p><p class=\"rank-list-grade\"><span class=\"like-point\">7</span></p></div><div><p>2023.11.18~2023.11.19<br/>경주예술의전당 화랑홀</p></div><div>0.3%</div></div><div><div class=\"fluctuation\"><p><span>37위</span></p><p class=\"rank-list-number-new\">new</p></div><div><a href=\"/pages/perf/detail/detail.aspx?IdPerf=47442\"><img alt=\"2023 뮤지컬 〈더 픽션〉 실황 OST, DVD 기획전\" class=\"rank-list-img\" src=\"http://tkfile.yes24.com/upload2/perfblog/202310/20231012/20231012-47442.jpg\"/></a></div><div><p class=\"rank-list-tit\"><a href=\"/pages/perf/detail/detail.aspx?IdPerf=47442\">2023 뮤지컬 〈더 픽션〉 실황 OST, DVD 기획전</a></p><p class=\"rank-list-grade\"></p></div><div><p>2023.10.12~2023.11.12<br/>예약판매</p></div><div>0.3%</div></div><div><div class=\"fluctuation\"><p><span>38위</span></p><p class=\"rank-list-number-up\">10</p></div><div><a href=\"/pages/perf/detail/detail.aspx?IdPerf=47551\"><img alt=\"뮤지컬 더데빌 : 파우스트\" class=\"rank-list-img\" src=\"http://tkfile.yes24.com/upload2/perfblog/202310/20231019/20231019-47551.jpg\"/></a></div><div><p class=\"rank-list-tit\"><a href=\"/pages/perf/detail/detail.aspx?IdPerf=47551\">뮤지컬 더데빌 : 파우스트</a></p><p class=\"rank-list-grade\"><span class=\"like-point\">62</span></p></div><div><p>2023.12.05~2024.03.03<br/>대학로 유니플렉스 1관</p></div><div>0.3%</div></div><div><div class=\"fluctuation\"><p><span>39위</span></p><p class=\"rank-list-number-up\">11</p></div><div><a href=\"/pages/perf/detail/detail.aspx?IdPerf=47046\"><img alt=\"[목포] 뮤지컬 〈맘마미아!〉\" class=\"rank-list-img\" src=\"http://tkfile.yes24.com/upload2/perfblog/202309/20230904/20230904-47046.jpg\"/></a></div><div><p class=\"rank-list-tit\"><a href=\"/pages/perf/detail/detail.aspx?IdPerf=47046\">[목포] 뮤지컬 〈맘마미아!〉</a></p><p class=\"rank-list-grade\"><span class=\"like-point\">9</span></p></div><div><p>2023.11.18~2023.11.19<br/>목포시민문화체육센터 대공연장</p></div><div>0.3%</div></div><div><div class=\"fluctuation\"><p><span>40위</span></p><p class=\"rank-list-number-new\">new</p></div><div><a href=\"/pages/perf/detail/detail.aspx?IdPerf=47595\"><img alt=\"뮤지컬 일 테노레 (IL TENORE)\" class=\"rank-list-img\" src=\"http://tkfile.yes24.com/upload2/perfblog/202310/20231025/20231025-47595.jpg\"/></a></div><div><p class=\"rank-list-tit\"><a href=\"/pages/perf/detail/detail.aspx?IdPerf=47595\">뮤지컬 일 테노레 (IL TENORE)</a></p><p class=\"rank-list-grade\"><span class=\"like-point\">197</span></p></div><div><p>2023.12.19~2024.02.25<br/>예술의전당 CJ 토월극장</p></div><div>0.3%</div></div><div><div class=\"fluctuation\"><p><span>41위</span></p><p class=\"rank-list-number-new\">new</p></div><div><a href=\"/pages/perf/detail/detail.aspx?IdPerf=47067\"><img alt=\"[고양] 가족뮤지컬 〈로보카폴리 - 잡아라! 황금트로피!〉\" class=\"rank-list-img\" src=\"http://tkfile.yes24.com/upload2/perfblog/202310/20231018/20231018-47067.jpg\"/></a></div><div><p class=\"rank-list-tit\"><a href=\"/pages/perf/detail/detail.aspx?IdPerf=47067\">[고양] 가족뮤지컬 〈로보카폴리 - 잡아라! 황금트로피!〉</a></p><p class=\"rank-list-grade\"><span class=\"like-point\">4</span></p></div><div><p>2023.11.11~2023.11.12<br/>고양어울림누리 어울림극장</p></div><div>0.3%</div></div><div><div class=\"fluctuation\"><p><span>42위</span></p><p class=\"rank-list-number-new\">new</p></div><div><a href=\"/pages/perf/detail/detail.aspx?IdPerf=47732\"><img alt=\"뮤지컬 〈미드나잇 : 액터뮤지션〉\" class=\"rank-list-img\" src=\"http://tkfile.yes24.com/upload2/perfblog/202311/20231106/20231106-47732.jpg\"/></a></div><div><p class=\"rank-list-tit\"><a href=\"/pages/perf/detail/detail.aspx?IdPerf=47732\">뮤지컬 〈미드나잇 : 액터뮤지션〉</a></p><p class=\"rank-list-grade\"><span class=\"like-point\">58</span></p></div><div><p>2023.12.09~2024.01.24<br/>대학로 아트원씨어터 1관</p></div><div>0.2%</div></div><div><div class=\"fluctuation\"><p><span>43위</span></p><p class=\"rank-list-number-down\">13</p></div><div><a href=\"/pages/perf/detail/detail.aspx?IdPerf=47028\"><img alt=\"매직 싱어롱쇼 〈슈퍼스타 뽀로로 드림콘서트〉시즌2\" class=\"rank-list-img\" src=\"http://tkfile.yes24.com/upload2/perfblog/202308/20230831/20230831-47028.jpg\"/></a></div><div><p class=\"rank-list-tit\"><a href=\"/pages/perf/detail/detail.aspx?IdPerf=47028\">매직 싱어롱쇼 〈슈퍼스타 뽀로로 드림콘서트〉시즌2</a></p><p class=\"rank-list-grade\"><span class=\"like-point\">10</span><span class=\"star-point\"><em style=\"width:78px;\"></em>5</span></p></div><div><p>2023.09.30~2023.11.12<br/>로운아트홀</p></div><div>0.2%</div></div><div><div class=\"fluctuation\"><p><span>44위</span></p><p class=\"rank-list-number-new\">new</p></div><div><a href=\"/pages/perf/detail/detail.aspx?IdPerf=47339\"><img alt=\"[수원] 뮤지컬 〈그날들〉 10주년 기념 공연\" class=\"rank-list-img\" src=\"http://tkfile.yes24.com/upload2/perfblog/202310/20231004/20231004-47339.jpg\"/></a></div><div><p class=\"rank-list-tit\"><a href=\"/pages/perf/detail/detail.aspx?IdPerf=47339\">[수원] 뮤지컬 〈그날들〉 10주년 기념 공연</a></p><p class=\"rank-list-grade\"><span class=\"like-point\">12</span></p></div><div><p>2023.11.25~2023.11.26<br/>경기아트센터 대극장</p></div><div>0.2%</div></div><div><div class=\"fluctuation\"><p><span>45위</span></p><p class=\"rank-list-number-new\">new</p></div><div><a href=\"/pages/perf/detail/detail.aspx?IdPerf=47396\"><img alt=\"[대전] 2023 송승환의 오리지널 난타\" class=\"rank-list-img\" src=\"http://tkfile.yes24.com/upload2/perfblog/202310/20231010/20231010-47396.jpg\"/></a></div><div><p class=\"rank-list-tit\"><a href=\"/pages/perf/detail/detail.aspx?IdPerf=47396\">[대전] 2023 송승환의 오리지널 난타</a></p><p class=\"rank-list-grade\"></p></div><div><p>2023.12.14~2023.12.17<br/>한밭대학교 아트홀</p></div><div>0.2%</div></div><div><div class=\"fluctuation\"><p><span>46위</span></p><p>-</p></div><div><a href=\"/pages/perf/detail/detail.aspx?IdPerf=47061\"><img alt=\"[익산] 이은결 〈MAGIC &amp; ILLUSION〉\" class=\"rank-list-img\" src=\"http://tkfile.yes24.com/upload2/perfblog/202309/20230905/20230905-47061.jpg\"/></a></div><div><p class=\"rank-list-tit\"><a href=\"/pages/perf/detail/detail.aspx?IdPerf=47061\">[익산] 이은결 〈MAGIC &amp; ILLUSION〉</a></p><p class=\"rank-list-grade\"><span class=\"like-point\">2</span></p></div><div><p>2023.12.09~2023.12.10<br/>익산 예술의전당 대공연장</p></div><div>0.2%</div></div><div><div class=\"fluctuation\"><p><span>47위</span></p><p class=\"rank-list-number-new\">new</p></div><div><a href=\"/pages/perf/detail/detail.aspx?IdPerf=47639\"><img alt=\"뮤지컬 〈결투〉\" class=\"rank-list-img\" src=\"http://tkfile.yes24.com/upload2/perfblog/202311/20231102/20231102-47639.jpg\"/></a></div><div><p class=\"rank-list-tit\"><a href=\"/pages/perf/detail/detail.aspx?IdPerf=47639\">뮤지컬 〈결투〉</a></p><p class=\"rank-list-grade\"><span class=\"like-point\">60</span></p></div><div><p>2023.12.02~2024.02.25<br/>예스24스테이지 2관</p></div><div>0.1%</div></div><div><div class=\"fluctuation\"><p><span>48위</span></p><p class=\"rank-list-number-down\">23</p></div><div><a href=\"/pages/perf/detail/detail.aspx?IdPerf=47496\"><img alt=\"[대전] 뮤지컬 〈빨래〉\" class=\"rank-list-img\" src=\"http://tkfile.yes24.com/upload2/perfblog/202310/20231016/20231016-47496.jpg\"/></a></div><div><p class=\"rank-list-tit\"><a href=\"/pages/perf/detail/detail.aspx?IdPerf=47496\">[대전] 뮤지컬 〈빨래〉</a></p><p class=\"rank-list-grade\"><span class=\"like-point\">6</span></p></div><div><p>2023.12.29~2023.12.31<br/>대전시립연정국악원 큰마당</p></div><div>0.1%</div></div><div><div class=\"fluctuation\"><p><span>49위</span></p><p class=\"rank-list-number-down\">9</p></div><div><a href=\"/pages/perf/detail/detail.aspx?IdPerf=47579\"><img alt=\"창작가무극 〈꾿빠이, 이상〉\" class=\"rank-list-img\" src=\"http://tkfile.yes24.com/upload2/perfblog/202310/20231023/20231023-47579.jpg\"/></a></div><div><p class=\"rank-list-tit\"><a href=\"/pages/perf/detail/detail.aspx?IdPerf=47579\">창작가무극 〈꾿빠이, 이상〉</a></p><p class=\"rank-list-grade\"><span class=\"like-point\">2</span></p></div><div><p>2023.12.09~2023.12.17<br/>예술의전당 자유소극장</p></div><div>0.1%</div></div><div><div class=\"fluctuation\"><p><span>50위</span></p><p class=\"rank-list-number-down\">3</p></div><div><a href=\"/pages/perf/detail/detail.aspx?IdPerf=47556\"><img alt=\"빅보스랜드 - 빅파이브 콘서트\" class=\"rank-list-img\" src=\"http://tkfile.yes24.com/upload2/perfblog/202310/20231030/20231030-47556.jpg\"/></a></div><div><p class=\"rank-list-tag\">단독</p><p class=\"rank-list-tit\"><a href=\"/pages/perf/detail/detail.aspx?IdPerf=47556\">빅보스랜드 - 빅파이브 콘서트</a></p><p class=\"rank-list-grade\"><span class=\"like-point\">72</span></p></div><div><p>2023.12.08~2023.12.09<br/>삼성동 백암아트홀</p></div><div>0.1%</div></div></div>\n",
       "<input id=\"hidSalesRankTrackingPeriod\" type=\"hidden\" value=\"2023.11.12 (일) &lt;span&gt; &lt;/span&gt;\"/>"
      ]
     },
     "execution_count": 4,
     "metadata": {},
     "output_type": "execute_result"
    }
   ],
   "source": [
    "soup1 = BeautifulSoup(r1.text,'html.parser')\n",
    "soup1"
   ]
  },
  {
   "cell_type": "code",
   "execution_count": 7,
   "id": "08b3201c-7586-4e79-b4d4-a009a6bc1387",
   "metadata": {},
   "outputs": [
    {
     "data": {
      "text/plain": [
       "<div class=\"rank-best\"><div><a href=\"/pages/perf/detail/detail.aspx?IdPerf=47290\" title=\"뮤지컬 〈드라이 플라워〉\"><span class=\"rank-best-img\"><img alt=\"뮤지컬 〈드라이 플라워〉\" class=\"rank-best-img\" src=\"http://tkfile.yes24.com/upload2/perfblog/202309/20230927/20230927-47290.jpg\"/></span><p class=\"rlb-tit\">뮤지컬 〈드라이 플라워〉</p><p class=\"rlb-sub-tit\">2023.11.07~2024.01.07<br/>대학로 드림아트센터 3관</p><p class=\"rank-best-point\"><strong>21.3%</strong><span class=\"like-point\">138</span><span class=\"star-point\"><em style=\"width:62px;\"></em>4</span></p><p class=\"rank-best-number\"><span>1위</span><span class=\"rank-best-number-up\">1</span>&gt;</p><p class=\"rank-best-tag\">단독</p></a></div><div><a href=\"/pages/perf/detail/detail.aspx?IdPerf=47420\" title=\"화가시리즈 - 뮤지컬 〈모딜리아니〉\"><span class=\"rank-best-img\"><img alt=\"화가시리즈 - 뮤지컬 〈모딜리아니〉\" class=\"rank-best-img\" src=\"http://tkfile.yes24.com/upload2/perfblog/202310/20231017/20231017-47420.jpg\"/></span><p class=\"rlb-tit\">화가시리즈 - 뮤지컬 〈모딜리아니〉</p><p class=\"rlb-sub-tit\">2023.12.09~2024.03.10<br/>서경대학교 공연예술센터 스콘2관</p><p class=\"rank-best-point\"><strong>18%</strong><span class=\"like-point\">55</span></p><p class=\"rank-best-number\"><span>2위</span><span class=\"rank-best-number-down\">1</span>&gt;</p></a></div><div><a href=\"/pages/perf/detail/detail.aspx?IdPerf=46305\" title=\"태양의서커스 〈루치아〉\"><span class=\"rank-best-img\"><img alt=\"태양의서커스 〈루치아〉\" class=\"rank-best-img\" src=\"http://tkfile.yes24.com/upload2/perfblog/202308/20230804/20230804-46305.jpg\"/></span><p class=\"rlb-tit\">태양의서커스 〈루치아〉</p><p class=\"rlb-sub-tit\">2023.10.25~2023.12.31<br/>잠실종합운동장 내 빅탑</p><p class=\"rank-best-point\"><strong>8.3%</strong><span class=\"like-point\">323</span><span class=\"star-point\"><em style=\"width:62px;\"></em>4</span></p><p class=\"rank-best-number\"><span>3위</span><span class=\"rank-best-number-up\">1</span>&gt;</p></a></div></div>"
      ]
     },
     "execution_count": 7,
     "metadata": {},
     "output_type": "execute_result"
    }
   ],
   "source": [
    "best123 = soup1.find(\"div\", class_=\"rank-best\")\n",
    "best123"
   ]
  },
  {
   "cell_type": "code",
   "execution_count": 10,
   "id": "077dcfd1-de9f-4f9d-ab6a-238cf244d70e",
   "metadata": {},
   "outputs": [
    {
     "data": {
      "text/plain": [
       "'뮤지컬 〈드라이 플라워〉'"
      ]
     },
     "execution_count": 10,
     "metadata": {},
     "output_type": "execute_result"
    }
   ],
   "source": [
    "titles = [p.text for p in soup1.find_all('p', class_='rlb-tit')]\n",
    "titles[0]"
   ]
  },
  {
   "cell_type": "code",
   "execution_count": null,
   "id": "7a08b624-7bc8-44af-bfbc-1b4ac0764baa",
   "metadata": {},
   "outputs": [],
   "source": []
  }
 ],
 "metadata": {
  "kernelspec": {
   "display_name": "Python 3 (ipykernel)",
   "language": "python",
   "name": "python3"
  },
  "language_info": {
   "codemirror_mode": {
    "name": "ipython",
    "version": 3
   },
   "file_extension": ".py",
   "mimetype": "text/x-python",
   "name": "python",
   "nbconvert_exporter": "python",
   "pygments_lexer": "ipython3",
   "version": "3.12.0"
  }
 },
 "nbformat": 4,
 "nbformat_minor": 5
}
