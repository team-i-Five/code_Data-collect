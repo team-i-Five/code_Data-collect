{
 "cells": [
  {
   "cell_type": "markdown",
   "id": "36968aed-b106-4eae-96f6-8e03fbf5f241",
   "metadata": {},
   "source": [
    "# 랭킹 데이터 크롤링 - yes24티켓"
   ]
  },
  {
   "cell_type": "code",
   "execution_count": 18,
   "id": "cdff5cb1-6f32-49a4-b66d-b42dc6bb23c8",
   "metadata": {},
   "outputs": [],
   "source": [
    "import requests\n",
    "from bs4 import BeautifulSoup\n",
    "import pandas as pd\n",
    "from datetime import datetime "
   ]
  },
  {
   "cell_type": "code",
   "execution_count": 23,
   "id": "128e2279-7c38-43b1-8024-9e27248b3e14",
   "metadata": {},
   "outputs": [
    {
     "data": {
      "text/plain": [
       "13"
      ]
     },
     "execution_count": 23,
     "metadata": {},
     "output_type": "execute_result"
    }
   ],
   "source": [
    "datetime.today().day"
   ]
  },
  {
   "cell_type": "markdown",
   "id": "3850235e-d26e-4b15-b161-02da8915d1d6",
   "metadata": {},
   "source": [
    "# 예스24티켓\n",
    "\n",
    "- 해당 사이트에서 랭킹 데이터는 POST 메서드를 통해 데이터가 전달되는 API url을 사용.\n",
    "- `payload` 의 \"et\", 날짜 값을 바꿔 일간 데이터를 가져옴."
   ]
  },
  {
   "cell_type": "code",
   "execution_count": null,
   "id": "10f87912-08b5-4da3-b744-0e08860cb89f",
   "metadata": {},
   "outputs": [],
   "source": []
  },
  {
   "cell_type": "code",
   "execution_count": 194,
   "id": "edd48417-34dd-4af1-88bc-378eea75e3ba",
   "metadata": {},
   "outputs": [],
   "source": [
    "# yes_url = \"http://ticket.yes24.com/New/Rank/Ranking.aspx?genre=15457\"\n",
    "\n",
    "yes_url = \"http://ticket.yes24.com/New/Rank/Ajax/RankList.aspx\"\n",
    "\n",
    "payload = {\n",
    "    \"pt\": \"1\"\n",
    "    ,\"ci\": \"16\"\n",
    "    ,\"et\": \"2023-11-13\"\n",
    "}\n",
    "\n",
    "header = {\n",
    "    \"User-Agent\": \"Mozilla/5.0 (Windows NT 10.0; Win64; x64) AppleWebKit/537.36 (KHTML, like Gecko) Chrome/119.0.0.0 Safari/537.36\"\n",
    "}"
   ]
  },
  {
   "cell_type": "code",
   "execution_count": 195,
   "id": "27159fa8-738f-4651-88cb-7c3b45e3061d",
   "metadata": {},
   "outputs": [
    {
     "data": {
      "text/plain": [
       "<Response [200]>"
      ]
     },
     "execution_count": 195,
     "metadata": {},
     "output_type": "execute_result"
    }
   ],
   "source": [
    "r1 = requests.post(yes_url, payload ,headers= header)\n",
    "r1.encoding = 'utf-8'\n",
    "r1"
   ]
  },
  {
   "cell_type": "code",
   "execution_count": 196,
   "id": "c2ea23b7-a828-4060-b0f4-898fe9dcf053",
   "metadata": {},
   "outputs": [
    {
     "data": {
      "text/plain": [
       "<div class=\"rank-best\"><div><a href=\"/pages/perf/detail/detail.aspx?IdPerf=46305\" title=\"태양의서커스 〈루치아〉\"><span class=\"rank-best-img\"><img alt=\"태양의서커스 〈루치아〉\" class=\"rank-best-img\" src=\"http://tkfile.yes24.com/upload2/perfblog/202308/20230804/20230804-46305.jpg\"/></span><p class=\"rlb-tit\">태양의서커스 〈루치아〉</p><p class=\"rlb-sub-tit\">2023.10.25~2023.12.31<br/>잠실종합운동장 내 빅탑</p><p class=\"rank-best-point\"><strong>18.3%</strong><span class=\"like-point\">325</span><span class=\"star-point\"><em style=\"width:62px;\"></em>4</span></p><p class=\"rank-best-number\"><span>1위</span><span class=\"rank-best-number-up\">3</span>&gt;</p></a></div><div><a href=\"/pages/perf/detail/detail.aspx?IdPerf=47290\" title=\"뮤지컬 〈드라이 플라워〉\"><span class=\"rank-best-img\"><img alt=\"뮤지컬 〈드라이 플라워〉\" class=\"rank-best-img\" src=\"http://tkfile.yes24.com/upload2/perfblog/202311/20231113/20231113-47290.jpg\"/></span><p class=\"rlb-tit\">뮤지컬 〈드라이 플라워〉</p><p class=\"rlb-sub-tit\">2023.11.07~2024.01.07<br/>대학로 드림아트센터 3관</p><p class=\"rank-best-point\"><strong>15.2%</strong><span class=\"like-point\">139</span><span class=\"star-point\"><em style=\"width:62px;\"></em>4</span></p><p class=\"rank-best-number\"><span>2위</span><span>-</span>&gt;</p><p class=\"rank-best-tag\">단독</p></a></div><div><a href=\"/pages/perf/detail/detail.aspx?IdPerf=46671\" title=\"뮤지컬 〈렛미플라이〉\"><span class=\"rank-best-img\"><img alt=\"뮤지컬 〈렛미플라이〉\" class=\"rank-best-img\" src=\"http://tkfile.yes24.com/upload2/perfblog/202311/20231113/20231113-46671.jpg\"/></span><p class=\"rlb-tit\">뮤지컬 〈렛미플라이〉</p><p class=\"rlb-sub-tit\">2023.09.26~2023.12.10<br/>예스24스테이지 1관</p><p class=\"rank-best-point\"><strong>10.9%</strong><span class=\"like-point\">920</span><span class=\"star-point\"><em style=\"width:62px;\"></em>4</span></p><p class=\"rank-best-number\"><span>3위</span><span class=\"rank-best-number-up\">3</span>&gt;</p></a></div></div>\n",
       "<div class=\"rank-list\"><div><div class=\"fluctuation\"><p><span>4위</span></p><p class=\"rank-list-number-new\">new</p></div><div><a href=\"/pages/perf/detail/detail.aspx?IdPerf=47421\"><img alt=\"화가시리즈 - 뮤지컬 〈에곤 실레〉\" class=\"rank-list-img\" src=\"http://tkfile.yes24.com/upload2/perfblog/202310/20231017/20231017-47421.jpg\"/></a></div><div><p class=\"rank-list-tit\"><a href=\"/pages/perf/detail/detail.aspx?IdPerf=47421\">화가시리즈 - 뮤지컬 〈에곤 실레〉</a></p><p class=\"rank-list-grade\"><span class=\"like-point\">43</span></p></div><div><p>2023.12.09~2024.03.10<br/>서경대학교 공연예술센터 스콘2관</p></div><div>6.2%</div></div><div><div class=\"fluctuation\"><p><span>5위</span></p><p class=\"rank-list-number-up\">8</p></div><div><a href=\"/pages/perf/detail/detail.aspx?IdPerf=47394\"><img alt=\"태양의서커스 〈루치아〉 - 부산\" class=\"rank-list-img\" src=\"http://tkfile.yes24.com/upload2/perfblog/202310/20231031/20231031-47394_1.jpg\"/></a></div><div><p class=\"rank-list-tit\"><a href=\"/pages/perf/detail/detail.aspx?IdPerf=47394\">태양의서커스 〈루치아〉 - 부산</a></p><p class=\"rank-list-grade\"><span class=\"like-point\">79</span></p></div><div><p>2024.01.13~2024.02.04<br/>신세계 센텀시티 내 빅탑</p></div><div>5.4%</div></div><div><div class=\"fluctuation\"><p><span>6위</span></p><p class=\"rank-list-number-up\">8</p></div><div><a href=\"/pages/perf/detail/detail.aspx?IdPerf=47090\"><img alt=\"오페레타 뮤지컬 〈판타지아〉 겨울시즌\" class=\"rank-list-img\" src=\"http://tkfile.yes24.com/upload2/perfblog/202311/20231113/20231113-47090.jpg\"/></a></div><div><p class=\"rank-list-tit\"><a href=\"/pages/perf/detail/detail.aspx?IdPerf=47090\">오페레타 뮤지컬 〈판타지아〉 겨울시즌</a></p><p class=\"rank-list-grade\"><span class=\"like-point\">15</span><span class=\"star-point\"><em style=\"width:62px;\"></em>4</span></p></div><div><p>2023.11.11~2023.12.31<br/>국립중앙박물관 내 극장용</p></div><div>4.3%</div></div><div><div class=\"fluctuation\"><p><span>7위</span></p><p>-</p></div><div><a href=\"/pages/perf/detail/detail.aspx?IdPerf=46662\"><img alt=\"뮤지컬 〈칠칠〉\" class=\"rank-list-img\" src=\"http://tkfile.yes24.com/upload2/perfblog/202309/20230918/20230918-46662_1.jpg\"/></a></div><div><p class=\"rank-list-tit\"><a href=\"/pages/perf/detail/detail.aspx?IdPerf=46662\">뮤지컬 〈칠칠〉</a></p><p class=\"rank-list-grade\"><span class=\"like-point\">160</span><span class=\"star-point\"><em style=\"width:62px;\"></em>4</span></p></div><div><p>2023.09.05~2023.11.26<br/>예스24스테이지 2관</p></div><div>3.4%</div></div><div><div class=\"fluctuation\"><p><span>8위</span></p><p class=\"rank-list-number-up\">11</p></div><div><a href=\"/pages/perf/detail/detail.aspx?IdPerf=47226\"><img alt=\"2023 〈마리 퀴리〉 - 서울\" class=\"rank-list-img\" src=\"http://tkfile.yes24.com/upload2/perfblog/202309/20230920/20230920-47226.jpg\"/></a></div><div><p class=\"rank-list-tit\"><a href=\"/pages/perf/detail/detail.aspx?IdPerf=47226\">2023 〈마리 퀴리〉 - 서울</a></p><p class=\"rank-list-grade\"><span class=\"like-point\">65</span></p></div><div><p>2023.11.24~2024.02.18<br/>홍익대 대학로 아트센터 대극장</p></div><div>3.4%</div></div><div><div class=\"fluctuation\"><p><span>9위</span></p><p class=\"rank-list-number-down\">8</p></div><div><a href=\"/pages/perf/detail/detail.aspx?IdPerf=47420\"><img alt=\"화가시리즈 - 뮤지컬 〈모딜리아니〉\" class=\"rank-list-img\" src=\"http://tkfile.yes24.com/upload2/perfblog/202310/20231017/20231017-47420.jpg\"/></a></div><div><p class=\"rank-list-tit\"><a href=\"/pages/perf/detail/detail.aspx?IdPerf=47420\">화가시리즈 - 뮤지컬 〈모딜리아니〉</a></p><p class=\"rank-list-grade\"><span class=\"like-point\">55</span></p></div><div><p>2023.12.09~2024.03.10<br/>서경대학교 공연예술센터 스콘2관</p></div><div>3.3%</div></div><div><div class=\"fluctuation\"><p><span>10위</span></p><p class=\"rank-list-number-down\">7</p></div><div><a href=\"/pages/perf/detail/detail.aspx?IdPerf=47295\"><img alt=\"뮤지컬 〈컴프롬어웨이〉\" class=\"rank-list-img\" src=\"http://tkfile.yes24.com/upload2/perfblog/202309/20230925/20230925-47295.jpg\"/></a></div><div><p class=\"rank-list-tit\"><a href=\"/pages/perf/detail/detail.aspx?IdPerf=47295\">뮤지컬 〈컴프롬어웨이〉</a></p><p class=\"rank-list-grade\"><span class=\"like-point\">75</span></p></div><div><p>2023.11.28~2024.02.18<br/>광림아트센터 BBCH홀</p></div><div>2.6%</div></div><div><div class=\"fluctuation\"><p><span>11위</span></p><p class=\"rank-list-number-up\">31</p></div><div><a href=\"/pages/perf/detail/detail.aspx?IdPerf=45927\"><img alt=\"뮤지컬 〈오페라의 유령〉 - 서울\" class=\"rank-list-img\" src=\"http://tkfile.yes24.com/upload2/perfblog/202305/20230511/20230511-45927.jpg\"/></a></div><div><p class=\"rank-list-tit\"><a href=\"/pages/perf/detail/detail.aspx?IdPerf=45927\">뮤지컬 〈오페라의 유령〉 - 서울</a></p><p class=\"rank-list-grade\"><span class=\"like-point\">1768</span><span class=\"star-point\"><em style=\"width:62px;\"></em>4</span></p></div><div><p>2023.07.21~2023.11.19<br/>샤롯데씨어터</p></div><div>2.3%</div></div><div><div class=\"fluctuation\"><p><span>12위</span></p><p class=\"rank-list-number-down\">2</p></div><div><a href=\"/pages/perf/detail/detail.aspx?IdPerf=47116\"><img alt=\"2023 푸에르자부르타 웨이라 인 서울\" class=\"rank-list-img\" src=\"http://tkfile.yes24.com/upload2/perfblog/202310/20231020/20231020-47116.jpg\"/></a></div><div><p class=\"rank-list-tit\"><a href=\"/pages/perf/detail/detail.aspx?IdPerf=47116\">2023 푸에르자부르타 웨이라 인 서울</a></p><p class=\"rank-list-grade\"><span class=\"like-point\">73</span></p></div><div><p>2023.11.17~2024.02.15<br/>성수문화예술마당 FB씨어터</p></div><div>2.2%</div></div><div><div class=\"fluctuation\"><p><span>13위</span></p><p class=\"rank-list-number-up\">14</p></div><div><a href=\"/pages/perf/detail/detail.aspx?IdPerf=46765\"><img alt=\"뮤지컬 〈레미제라블〉 - 부산\" class=\"rank-list-img\" src=\"http://tkfile.yes24.com/upload2/perfblog/202310/20231030/20231030-46765.jpg\"/></a></div><div><p class=\"rank-list-tit\"><a href=\"/pages/perf/detail/detail.aspx?IdPerf=46765\">뮤지컬 〈레미제라블〉 - 부산</a></p><p class=\"rank-list-grade\"><span class=\"like-point\">257</span><span class=\"star-point\"><em style=\"width:62px;\"></em>4</span></p></div><div><p>2023.10.11~2023.11.19<br/>드림씨어터</p></div><div>2.2%</div></div><div><div class=\"fluctuation\"><p><span>14위</span></p><p class=\"rank-list-number-down\">6</p></div><div><a href=\"/pages/perf/detail/detail.aspx?IdPerf=47311\"><img alt=\"어른이 뮤지컬 〈난쟁이들〉\" class=\"rank-list-img\" src=\"http://tkfile.yes24.com/upload2/perfblog/202309/20230926/20230926-47311.jpg\"/></a></div><div><p class=\"rank-list-tit\"><a href=\"/pages/perf/detail/detail.aspx?IdPerf=47311\">어른이 뮤지컬 〈난쟁이들〉</a></p><p class=\"rank-list-grade\"><span class=\"like-point\">93</span><span class=\"star-point\"><em style=\"width:62px;\"></em>4</span></p></div><div><p>2023.11.01~2024.01.21<br/>플러스씨어터</p></div><div>2.2%</div></div><div><div class=\"fluctuation\"><p><span>15위</span></p><p class=\"rank-list-number-up\">11</p></div><div><a href=\"/pages/perf/detail/detail.aspx?IdPerf=47289\"><img alt=\"[고양] 헬로카봇 뮤지컬 시즌7 〈웰컴 투 파라다이스〉\" class=\"rank-list-img\" src=\"http://tkfile.yes24.com/upload2/perfblog/202309/20230926/20230926-47289.jpg\"/></a></div><div><p class=\"rank-list-tit\"><a href=\"/pages/perf/detail/detail.aspx?IdPerf=47289\">[고양] 헬로카봇 뮤지컬 시즌7 〈웰컴 투 파라다이스〉</a></p><p class=\"rank-list-grade\"><span class=\"like-point\">9</span></p></div><div><p>2023.12.02~2023.12.03<br/>고양어울림누리 어울림극장</p></div><div>1.7%</div></div><div><div class=\"fluctuation\"><p><span>16위</span></p><p class=\"rank-list-number-up\">16</p></div><div><a href=\"/pages/perf/detail/detail.aspx?IdPerf=47370\"><img alt=\"개관 15주년 컬렉션 폐막작 - 창원 「뮤지컬 왕세자 실종사건」\" class=\"rank-list-img\" src=\"http://tkfile.yes24.com/upload2/perfblog/202310/20231005/20231005-47370.jpg\"/></a></div><div><p class=\"rank-list-tag\">단독</p><p class=\"rank-list-tit\"><a href=\"/pages/perf/detail/detail.aspx?IdPerf=47370\">개관 15주년 컬렉션 폐막작 - 창원 「뮤지컬 왕세자 실종사건」</a></p><p class=\"rank-list-grade\"><span class=\"like-point\">10</span></p></div><div><p>2023.11.17~2023.11.18<br/>3.15아트센터 대극장</p></div><div>1.4%</div></div><div><div class=\"fluctuation\"><p><span>17위</span></p><p class=\"rank-list-number-down\">6</p></div><div><a href=\"/pages/perf/detail/detail.aspx?IdPerf=46848\"><img alt=\"뮤지컬 더데빌 : 에덴\" class=\"rank-list-img\" src=\"http://tkfile.yes24.com/upload2/perfblog/202311/20231113/20231113-46848.jpg\"/></a></div><div><p class=\"rank-list-tit\"><a href=\"/pages/perf/detail/detail.aspx?IdPerf=46848\">뮤지컬 더데빌 : 에덴</a></p><p class=\"rank-list-grade\"><span class=\"like-point\">146</span><span class=\"star-point\"><em style=\"width:62px;\"></em>4</span></p></div><div><p>2023.09.21~2023.11.26<br/>대학로 유니플렉스 1관</p></div><div>1.4%</div></div><div><div class=\"fluctuation\"><p><span>18위</span></p><p class=\"rank-list-number-new\">new</p></div><div><a href=\"/pages/perf/detail/detail.aspx?IdPerf=47503\"><img alt=\"[천안] 20주년스페셜싱어롱쇼-슈퍼스타 뽀로로드림콘서트\" class=\"rank-list-img\" src=\"http://tkfile.yes24.com/upload2/perfblog/202310/20231016/20231016-47503.jpg\"/></a></div><div><p class=\"rank-list-tit\"><a href=\"/pages/perf/detail/detail.aspx?IdPerf=47503\">[천안] 20주년스페셜싱어롱쇼-슈퍼스타 뽀로로드림콘서트</a></p><p class=\"rank-list-grade\"><span class=\"like-point\">11</span></p></div><div><p>2023.12.23~2023.12.24<br/>성환문화회관</p></div><div>1.4%</div></div><div><div class=\"fluctuation\"><p><span>19위</span></p><p class=\"rank-list-number-up\">29</p></div><div><a href=\"/pages/perf/detail/detail.aspx?IdPerf=47551\"><img alt=\"뮤지컬 더데빌 : 파우스트\" class=\"rank-list-img\" src=\"http://tkfile.yes24.com/upload2/perfblog/202310/20231019/20231019-47551.jpg\"/></a></div><div><p class=\"rank-list-tit\"><a href=\"/pages/perf/detail/detail.aspx?IdPerf=47551\">뮤지컬 더데빌 : 파우스트</a></p><p class=\"rank-list-grade\"><span class=\"like-point\">62</span></p></div><div><p>2023.12.05~2024.03.03<br/>대학로 유니플렉스 1관</p></div><div>0.9%</div></div><div><div class=\"fluctuation\"><p><span>20위</span></p><p class=\"rank-list-number-up\">8</p></div><div><a href=\"/pages/perf/detail/detail.aspx?IdPerf=47497\"><img alt=\"[고양] 가족뮤지컬 〈고고다이노 - 고고킹의 귀환〉\" class=\"rank-list-img\" src=\"http://tkfile.yes24.com/upload2/perfblog/202310/20231016/20231016-47497.jpg\"/></a></div><div><p class=\"rank-list-tit\"><a href=\"/pages/perf/detail/detail.aspx?IdPerf=47497\">[고양] 가족뮤지컬 〈고고다이노 - 고고킹의 귀환〉</a></p><p class=\"rank-list-grade\"><span class=\"like-point\">21</span></p></div><div><p>2023.12.16~2023.12.17<br/>고양어울림누리 어울림극장</p></div><div>0.9%</div></div><div><div class=\"fluctuation\"><p><span>21위</span></p><p class=\"rank-list-number-up\">2</p></div><div><a href=\"/pages/perf/detail/detail.aspx?IdPerf=47130\"><img alt=\"뮤지컬 〈빨래〉\" class=\"rank-list-img\" src=\"http://tkfile.yes24.com/upload2/perfblog/202309/20230908/20230908-47130.jpg\"/></a></div><div><p class=\"rank-list-tit\"><a href=\"/pages/perf/detail/detail.aspx?IdPerf=47130\">뮤지컬 〈빨래〉</a></p><p class=\"rank-list-grade\"><span class=\"like-point\">27</span><span class=\"star-point\"><em style=\"width:78px;\"></em>5</span></p></div><div><p>2023.10.12~2024.05.26<br/>대학로 유니플렉스 2관</p></div><div>0.9%</div></div><div><div class=\"fluctuation\"><p><span>22위</span></p><p class=\"rank-list-number-new\">new</p></div><div><a href=\"/pages/perf/detail/detail.aspx?IdPerf=47172\"><img alt=\"[대전] 뮤지컬 〈그날들〉 10주년 기념 공연\" class=\"rank-list-img\" src=\"http://tkfile.yes24.com/upload2/perfblog/202309/20230918/20230918-47172.jpg\"/></a></div><div><p class=\"rank-list-tit\"><a href=\"/pages/perf/detail/detail.aspx?IdPerf=47172\">[대전] 뮤지컬 〈그날들〉 10주년 기념 공연</a></p><p class=\"rank-list-grade\"><span class=\"like-point\">20</span></p></div><div><p>2023.11.17~2023.11.19<br/>대전예술의전당 아트홀</p></div><div>0.8%</div></div><div><div class=\"fluctuation\"><p><span>23위</span></p><p class=\"rank-list-number-new\">new</p></div><div><a href=\"/pages/perf/detail/detail.aspx?IdPerf=46874\"><img alt=\"2023~24 최현우 Answer\" class=\"rank-list-img\" src=\"http://tkfile.yes24.com/upload2/perfblog/202308/20230816/20230816-46874.jpg\"/></a></div><div><p class=\"rank-list-tit\"><a href=\"/pages/perf/detail/detail.aspx?IdPerf=46874\">2023~24 최현우 Answer</a></p><p class=\"rank-list-grade\"><span class=\"like-point\">8</span></p></div><div><p>2023.12.23~2024.01.14<br/>마포아트센터 아트홀맥</p></div><div>0.8%</div></div><div><div class=\"fluctuation\"><p><span>24위</span></p><p class=\"rank-list-number-up\">25</p></div><div><a href=\"/pages/perf/detail/detail.aspx?IdPerf=47660\"><img alt=\"가족매지컬 스크루지 〈크리스마스 캐롤〉\" class=\"rank-list-img\" src=\"http://tkfile.yes24.com/upload2/perfblog/202310/20231030/20231030-47660.jpg\"/></a></div><div><p class=\"rank-list-tit\"><a href=\"/pages/perf/detail/detail.aspx?IdPerf=47660\">가족매지컬 스크루지 〈크리스마스 캐롤〉</a></p><p class=\"rank-list-grade\"><span class=\"like-point\">24</span></p></div><div><p>2023.12.12~2024.01.21<br/>인천어린이과학관 공연장</p></div><div>0.8%</div></div><div><div class=\"fluctuation\"><p><span>25위</span></p><p class=\"rank-list-number-down\">13</p></div><div><a href=\"/pages/perf/detail/detail.aspx?IdPerf=47762\"><img alt=\"[양산] 가족뮤지컬 〈고고다이노 - 고고킹의 귀환〉\" class=\"rank-list-img\" src=\"http://tkfile.yes24.com/upload2/perfblog/202311/20231108/20231108-47762.jpg\"/></a></div><div><p class=\"rank-list-tit\"><a href=\"/pages/perf/detail/detail.aspx?IdPerf=47762\">[양산] 가족뮤지컬 〈고고다이노 - 고고킹의 귀환〉</a></p><p class=\"rank-list-grade\"><span class=\"like-point\">21</span></p></div><div><p>2024.01.06~2024.01.07<br/>양산문화예술회관 대극장</p></div><div>0.6%</div></div><div><div class=\"fluctuation\"><p><span>26위</span></p><p class=\"rank-list-number-down\">17</p></div><div><a href=\"/pages/perf/detail/detail.aspx?IdPerf=47438\"><img alt=\"뮤지컬 〈키다리 아저씨〉\" class=\"rank-list-img\" src=\"http://tkfile.yes24.com/upload2/perfblog/202310/20231011/20231011-47438.jpg\"/></a></div><div><p class=\"rank-list-tit\"><a href=\"/pages/perf/detail/detail.aspx?IdPerf=47438\">뮤지컬 〈키다리 아저씨〉</a></p><p class=\"rank-list-grade\"><span class=\"like-point\">169</span></p></div><div><p>2023.12.05~2024.02.25<br/>대학로 드림아트센터 1관</p></div><div>0.6%</div></div><div><div class=\"fluctuation\"><p><span>27위</span></p><p class=\"rank-list-number-down\">22</p></div><div><a href=\"/pages/perf/detail/detail.aspx?IdPerf=46733\"><img alt=\"뮤지컬 〈비더슈탄트〉\" class=\"rank-list-img\" src=\"http://tkfile.yes24.com/upload2/perfblog/202308/20230828/20230828-46733.jpg\"/></a></div><div><p class=\"rank-list-tit\"><a href=\"/pages/perf/detail/detail.aspx?IdPerf=46733\">뮤지컬 〈비더슈탄트〉</a></p><p class=\"rank-list-grade\"><span class=\"like-point\">302</span><span class=\"star-point\"><em style=\"width:62px;\"></em>4</span></p></div><div><p>2023.09.12~2023.11.26<br/>대학로 드림아트센터 1관</p></div><div>0.6%</div></div><div><div class=\"fluctuation\"><p><span>28위</span></p><p class=\"rank-list-number-down\">13</p></div><div><a href=\"/pages/perf/detail/detail.aspx?IdPerf=47231\"><img alt=\"가족뮤지컬 〈장화 신은 고양이 비긴즈〉 - 플레이버전\" class=\"rank-list-img\" src=\"http://tkfile.yes24.com/upload2/perfblog/202311/20231113/20231113-47231.jpg\"/></a></div><div><p class=\"rank-list-tit\"><a href=\"/pages/perf/detail/detail.aspx?IdPerf=47231\">가족뮤지컬 〈장화 신은 고양이 비긴즈〉 - 플레이버전</a></p><p class=\"rank-list-grade\"><span class=\"like-point\">13</span></p></div><div><p>2023.12.16~2024.02.25<br/>KT&amp;G 상상마당 대치아트홀</p></div><div>0.6%</div></div><div><div class=\"fluctuation\"><p><span>29위</span></p><p class=\"rank-list-number-up\">14</p></div><div><a href=\"/pages/perf/detail/detail.aspx?IdPerf=47230\"><img alt=\"창작가무극 〈순신〉\" class=\"rank-list-img\" src=\"http://tkfile.yes24.com/upload2/perfblog/202311/20231106/20231106-47230.jpg\"/></a></div><div><p class=\"rank-list-tit\"><a href=\"/pages/perf/detail/detail.aspx?IdPerf=47230\">창작가무극 〈순신〉</a></p><p class=\"rank-list-grade\"><span class=\"like-point\">17</span><span class=\"star-point\"><em style=\"width:78px;\"></em>5</span></p></div><div><p>2023.11.08~2023.11.26<br/>예술의전당 CJ 토월극장</p></div><div>0.6%</div></div><div><div class=\"fluctuation\"><p><span>30위</span></p><p class=\"rank-list-number-up\">4</p></div><div><a href=\"/pages/perf/detail/detail.aspx?IdPerf=47250\"><img alt=\"[고양] 뮤지컬 〈JUMP 점프〉\" class=\"rank-list-img\" src=\"http://tkfile.yes24.com/upload2/perfblog/202309/20230925/20230925-47250.jpg\"/></a></div><div><p class=\"rank-list-tit\"><a href=\"/pages/perf/detail/detail.aspx?IdPerf=47250\">[고양] 뮤지컬 〈JUMP 점프〉</a></p><p class=\"rank-list-grade\"></p></div><div><p>2023.12.09~2023.12.10<br/>고양어울림누리 어울림극장</p></div><div>0.6%</div></div><div><div class=\"fluctuation\"><p><span>31위</span></p><p class=\"rank-list-number-up\">8</p></div><div><a href=\"/pages/perf/detail/detail.aspx?IdPerf=47340\"><img alt=\"[대구]가족뮤지컬〈고양이해결사깜냥-편의점을환하게밝혀라〉\" class=\"rank-list-img\" src=\"http://tkfile.yes24.com/upload2/perfblog/202310/20231011/20231011-47340.jpg\"/></a></div><div><p class=\"rank-list-tit\"><a href=\"/pages/perf/detail/detail.aspx?IdPerf=47340\">[대구]가족뮤지컬〈고양이해결사깜냥-편의점을환하게밝혀라〉</a></p><p class=\"rank-list-grade\"><span class=\"like-point\">4</span></p></div><div><p>2023.12.16~2023.12.17<br/>대구보건대 인당아트홀</p></div><div>0.5%</div></div><div><div class=\"fluctuation\"><p><span>32위</span></p><p class=\"rank-list-number-down\">7</p></div><div><a href=\"/pages/perf/detail/detail.aspx?IdPerf=47496\"><img alt=\"[대전] 뮤지컬 〈빨래〉\" class=\"rank-list-img\" src=\"http://tkfile.yes24.com/upload2/perfblog/202310/20231016/20231016-47496.jpg\"/></a></div><div><p class=\"rank-list-tit\"><a href=\"/pages/perf/detail/detail.aspx?IdPerf=47496\">[대전] 뮤지컬 〈빨래〉</a></p><p class=\"rank-list-grade\"><span class=\"like-point\">6</span></p></div><div><p>2023.12.29~2023.12.31<br/>대전시립연정국악원 큰마당</p></div><div>0.5%</div></div><div><div class=\"fluctuation\"><p><span>33위</span></p><p class=\"rank-list-number-down\">4</p></div><div><a href=\"/pages/perf/detail/detail.aspx?IdPerf=47532\"><img alt=\"[광주] 헬로카봇 뮤지컬 시즌7 〈웰컴 투 파라다이스〉\" class=\"rank-list-img\" src=\"http://tkfile.yes24.com/upload2/perfblog/202310/20231018/20231018-47532.jpg\"/></a></div><div><p class=\"rank-list-tit\"><a href=\"/pages/perf/detail/detail.aspx?IdPerf=47532\">[광주] 헬로카봇 뮤지컬 시즌7 〈웰컴 투 파라다이스〉</a></p><p class=\"rank-list-grade\"><span class=\"like-point\">9</span></p></div><div><p>2023.12.23~2023.12.24<br/>조선대학교 해오름관</p></div><div>0.3%</div></div><div><div class=\"fluctuation\"><p><span>34위</span></p><p class=\"rank-list-number-up\">13</p></div><div><a href=\"/pages/perf/detail/detail.aspx?IdPerf=47556\"><img alt=\"빅보스랜드 - 빅파이브 콘서트\" class=\"rank-list-img\" src=\"http://tkfile.yes24.com/upload2/perfblog/202310/20231030/20231030-47556.jpg\"/></a></div><div><p class=\"rank-list-tag\">단독</p><p class=\"rank-list-tit\"><a href=\"/pages/perf/detail/detail.aspx?IdPerf=47556\">빅보스랜드 - 빅파이브 콘서트</a></p><p class=\"rank-list-grade\"><span class=\"like-point\">72</span></p></div><div><p>2023.12.08~2023.12.09<br/>삼성동 백암아트홀</p></div><div>0.3%</div></div><div><div class=\"fluctuation\"><p><span>35위</span></p><p class=\"rank-list-number-down\">13</p></div><div><a href=\"/pages/perf/detail/detail.aspx?IdPerf=47128\"><img alt=\"[전주 앵콜] 캐치! 티니핑 〈신비한 상자를 열어라!〉\" class=\"rank-list-img\" src=\"http://tkfile.yes24.com/upload2/perfblog/202309/20230913/20230913-47128.jpg\"/></a></div><div><p class=\"rank-list-tit\"><a href=\"/pages/perf/detail/detail.aspx?IdPerf=47128\">[전주 앵콜] 캐치! 티니핑 〈신비한 상자를 열어라!〉</a></p><p class=\"rank-list-grade\"><span class=\"like-point\">15</span></p></div><div><p>2023.11.18~2023.11.19<br/>한국소리문화의전당 모악당</p></div><div>0.3%</div></div><div><div class=\"fluctuation\"><p><span>36위</span></p><p class=\"rank-list-number-new\">new</p></div><div><a href=\"/pages/perf/detail/detail.aspx?IdPerf=46903\"><img alt=\"뮤지컬 〈위윌락유〉\" class=\"rank-list-img\" src=\"http://tkfile.yes24.com/upload2/perfblog/202310/20231024/20231024-46903.jpg\"/></a></div><div><p class=\"rank-list-tit\"><a href=\"/pages/perf/detail/detail.aspx?IdPerf=46903\">뮤지컬 〈위윌락유〉</a></p><p class=\"rank-list-grade\"><span class=\"like-point\">46</span><span class=\"star-point\"><em style=\"width:62px;\"></em>4</span></p></div><div><p>2023.09.22~2023.12.31<br/>대학로 더 굿씨어터</p></div><div>0.3%</div></div><div><div class=\"fluctuation\"><p><span>37위</span></p><p class=\"rank-list-number-new\">new</p></div><div><a href=\"/pages/perf/detail/detail.aspx?IdPerf=38930\"><img alt=\"락뮤지컬 [프리즌]\" class=\"rank-list-img\" src=\"http://tkfile.yes24.com/upload2/perfblog/202309/20230908/20230908-38930.jpg\"/></a></div><div><p class=\"rank-list-tit\"><a href=\"/pages/perf/detail/detail.aspx?IdPerf=38930\">락뮤지컬 [프리즌]</a></p><p class=\"rank-list-grade\"><span class=\"like-point\">23</span><span class=\"star-point\"><em style=\"width:78px;\"></em>5</span></p></div><div><p>2020.04.29~2023.12.31<br/>에이치씨어터</p></div><div>0.3%</div></div><div><div class=\"fluctuation\"><p><span>38위</span></p><p class=\"rank-list-number-up\">8</p></div><div><a href=\"/pages/perf/detail/detail.aspx?IdPerf=47061\"><img alt=\"[익산] 이은결 〈MAGIC &amp; ILLUSION〉\" class=\"rank-list-img\" src=\"http://tkfile.yes24.com/upload2/perfblog/202309/20230905/20230905-47061.jpg\"/></a></div><div><p class=\"rank-list-tit\"><a href=\"/pages/perf/detail/detail.aspx?IdPerf=47061\">[익산] 이은결 〈MAGIC &amp; ILLUSION〉</a></p><p class=\"rank-list-grade\"><span class=\"like-point\">2</span></p></div><div><p>2023.12.09~2023.12.10<br/>익산 예술의전당 대공연장</p></div><div>0.3%</div></div><div><div class=\"fluctuation\"><p><span>39위</span></p><p class=\"rank-list-number-down\">21</p></div><div><a href=\"/pages/perf/detail/detail.aspx?IdPerf=46785\"><img alt=\"뮤지컬 〈삼총사〉\" class=\"rank-list-img\" src=\"http://tkfile.yes24.com/upload2/perfblog/202310/20231023/20231023-46785.jpg\"/></a></div><div><p class=\"rank-list-tit\"><a href=\"/pages/perf/detail/detail.aspx?IdPerf=46785\">뮤지컬 〈삼총사〉</a></p><p class=\"rank-list-grade\"><span class=\"like-point\">227</span><span class=\"star-point\"><em style=\"width:62px;\"></em>4</span></p></div><div><p>2023.09.15~2023.11.19<br/>한전아트센터</p></div><div>0.2%</div></div><div><div class=\"fluctuation\"><p><span>40위</span></p><p class=\"rank-list-number-up\">5</p></div><div><a href=\"/pages/perf/detail/detail.aspx?IdPerf=42742\"><img alt=\"뮤지컬 [렛미플라이] OST\" class=\"rank-list-img\" src=\"http://tkfile.yes24.com/upload2/perfblog/202206/20220629/20220629-42742.jpg\"/></a></div><div><p class=\"rank-list-tit\"><a href=\"/pages/perf/detail/detail.aspx?IdPerf=42742\">뮤지컬 [렛미플라이] OST</a></p><p class=\"rank-list-grade\"><span class=\"like-point\">87</span><span class=\"star-point\"><em style=\"width:62px;\"></em>4</span></p></div><div><p>2022.06.30~2024.06.30<br/>예약판매</p></div><div>0.2%</div></div><div><div class=\"fluctuation\"><p><span>41위</span></p><p class=\"rank-list-number-down\">20</p></div><div><a href=\"/pages/perf/detail/detail.aspx?IdPerf=47248\"><img alt=\"[광주] 뮤지컬 〈삼총사〉\" class=\"rank-list-img\" src=\"http://tkfile.yes24.com/upload2/perfblog/202309/20230925/20230925-47248.jpg\"/></a></div><div><p class=\"rank-list-tit\"><a href=\"/pages/perf/detail/detail.aspx?IdPerf=47248\">[광주] 뮤지컬 〈삼총사〉</a></p><p class=\"rank-list-grade\"><span class=\"like-point\">26</span></p></div><div><p>2023.12.01~2023.12.03<br/>광주 예술의전당 대극장</p></div><div>0.2%</div></div></div>\n",
       "<input id=\"hidSalesRankTrackingPeriod\" type=\"hidden\" value=\"2023.11.13 (월) &lt;span&gt;16:30&lt;/span&gt;\"/>"
      ]
     },
     "execution_count": 196,
     "metadata": {},
     "output_type": "execute_result"
    }
   ],
   "source": [
    "soup1 = BeautifulSoup(r1.text,'html.parser')\n",
    "soup1"
   ]
  },
  {
   "cell_type": "code",
   "execution_count": null,
   "id": "27ef309f-0b70-4a92-a23b-b8694dfd4339",
   "metadata": {},
   "outputs": [],
   "source": []
  },
  {
   "cell_type": "markdown",
   "id": "6bf863c5-4b48-40e4-a92b-24bd862d9aec",
   "metadata": {},
   "source": [
    "## rank-best 의 1위부터 3위 까지의 랭킹 데이터"
   ]
  },
  {
   "cell_type": "code",
   "execution_count": 197,
   "id": "08b3201c-7586-4e79-b4d4-a009a6bc1387",
   "metadata": {},
   "outputs": [
    {
     "data": {
      "text/plain": [
       "<div class=\"rank-best\"><div><a href=\"/pages/perf/detail/detail.aspx?IdPerf=46305\" title=\"태양의서커스 〈루치아〉\"><span class=\"rank-best-img\"><img alt=\"태양의서커스 〈루치아〉\" class=\"rank-best-img\" src=\"http://tkfile.yes24.com/upload2/perfblog/202308/20230804/20230804-46305.jpg\"/></span><p class=\"rlb-tit\">태양의서커스 〈루치아〉</p><p class=\"rlb-sub-tit\">2023.10.25~2023.12.31<br/>잠실종합운동장 내 빅탑</p><p class=\"rank-best-point\"><strong>18.3%</strong><span class=\"like-point\">325</span><span class=\"star-point\"><em style=\"width:62px;\"></em>4</span></p><p class=\"rank-best-number\"><span>1위</span><span class=\"rank-best-number-up\">3</span>&gt;</p></a></div><div><a href=\"/pages/perf/detail/detail.aspx?IdPerf=47290\" title=\"뮤지컬 〈드라이 플라워〉\"><span class=\"rank-best-img\"><img alt=\"뮤지컬 〈드라이 플라워〉\" class=\"rank-best-img\" src=\"http://tkfile.yes24.com/upload2/perfblog/202311/20231113/20231113-47290.jpg\"/></span><p class=\"rlb-tit\">뮤지컬 〈드라이 플라워〉</p><p class=\"rlb-sub-tit\">2023.11.07~2024.01.07<br/>대학로 드림아트센터 3관</p><p class=\"rank-best-point\"><strong>15.2%</strong><span class=\"like-point\">139</span><span class=\"star-point\"><em style=\"width:62px;\"></em>4</span></p><p class=\"rank-best-number\"><span>2위</span><span>-</span>&gt;</p><p class=\"rank-best-tag\">단독</p></a></div><div><a href=\"/pages/perf/detail/detail.aspx?IdPerf=46671\" title=\"뮤지컬 〈렛미플라이〉\"><span class=\"rank-best-img\"><img alt=\"뮤지컬 〈렛미플라이〉\" class=\"rank-best-img\" src=\"http://tkfile.yes24.com/upload2/perfblog/202311/20231113/20231113-46671.jpg\"/></span><p class=\"rlb-tit\">뮤지컬 〈렛미플라이〉</p><p class=\"rlb-sub-tit\">2023.09.26~2023.12.10<br/>예스24스테이지 1관</p><p class=\"rank-best-point\"><strong>10.9%</strong><span class=\"like-point\">920</span><span class=\"star-point\"><em style=\"width:62px;\"></em>4</span></p><p class=\"rank-best-number\"><span>3위</span><span class=\"rank-best-number-up\">3</span>&gt;</p></a></div></div>"
      ]
     },
     "execution_count": 197,
     "metadata": {},
     "output_type": "execute_result"
    }
   ],
   "source": [
    "best123 = soup1.find(\"div\", class_=\"rank-best\")\n",
    "best123"
   ]
  },
  {
   "cell_type": "code",
   "execution_count": 84,
   "id": "077dcfd1-de9f-4f9d-ab6a-238cf244d70e",
   "metadata": {},
   "outputs": [
    {
     "data": {
      "text/plain": [
       "['태양의서커스 〈루치아〉', '뮤지컬 〈드라이 플라워〉', '뮤지컬 〈렛미플라이〉']"
      ]
     },
     "execution_count": 84,
     "metadata": {},
     "output_type": "execute_result"
    }
   ],
   "source": [
    "titles123 = [p.text for p in best123.find_all('p', class_='rlb-tit')]\n",
    "titles123"
   ]
  },
  {
   "cell_type": "code",
   "execution_count": 183,
   "id": "fcb7ecca-b7b1-48e8-96ea-d21f58ddec63",
   "metadata": {},
   "outputs": [
    {
     "data": {
      "text/plain": [
       "'뮤지컬 〈드라이 플라워〉'"
      ]
     },
     "execution_count": 183,
     "metadata": {},
     "output_type": "execute_result"
    }
   ],
   "source": [
    "best123.find_all(\"p\", class_=\"rlb-tit\")[1].get_text()"
   ]
  },
  {
   "cell_type": "code",
   "execution_count": 85,
   "id": "6a40a9d0-d42c-4aff-9c06-e13ba9bde9d7",
   "metadata": {},
   "outputs": [
    {
     "name": "stdout",
     "output_type": "stream",
     "text": [
      "2023.10.25~2023.12.31 \n",
      " 잠실종합운동장 내 빅탑\n"
     ]
    }
   ],
   "source": [
    "# date, location info가 저장된 변수\n",
    "tmp=best123.find_all('p', class_=\"rlb-sub-tit\")[0].get_text(separator='|', strip=True).split('|')\n",
    "\n",
    "print(tmp[0] ,\"\\n\" ,tmp[1])"
   ]
  },
  {
   "cell_type": "code",
   "execution_count": 86,
   "id": "7c3bf397-f52f-4767-aae1-2c55f220a044",
   "metadata": {},
   "outputs": [
    {
     "data": {
      "text/plain": [
       "'http://tkfile.yes24.com/upload2/perfblog/202311/20231113/20231113-47290.jpg'"
      ]
     },
     "execution_count": 86,
     "metadata": {},
     "output_type": "execute_result"
    }
   ],
   "source": [
    "# 이미지 url 갸져오기\n",
    "\n",
    "best123.find_all(\"span\", class_=\"rank-best-img\")[1].find(\"img\",class_=\"rank-best-img\").get(\"src\")"
   ]
  },
  {
   "cell_type": "code",
   "execution_count": 87,
   "id": "89322809-876c-4596-aeb3-c330e80c9dd0",
   "metadata": {},
   "outputs": [
    {
     "data": {
      "text/plain": [
       "'47290'"
      ]
     },
     "execution_count": 87,
     "metadata": {},
     "output_type": "execute_result"
    }
   ],
   "source": [
    "# 뮤지컬 ID 값 추출\n",
    "best123.find(\"a\", title = titles123[1]).get(\"href\").split(\"=\")[1]"
   ]
  },
  {
   "cell_type": "code",
   "execution_count": 88,
   "id": "65198bbb-c592-4232-b808-e7e28ec48bae",
   "metadata": {},
   "outputs": [
    {
     "data": {
      "text/plain": [
       "'3'"
      ]
     },
     "execution_count": 88,
     "metadata": {},
     "output_type": "execute_result"
    }
   ],
   "source": [
    "# rank 추출\n",
    "best123.find_all(\"p\", class_ = \"rank-best-number\")[2].find(\"span\").get_text()[:-1]"
   ]
  },
  {
   "cell_type": "code",
   "execution_count": null,
   "id": "0bea64f1-7392-4405-83a7-e266741c03ce",
   "metadata": {},
   "outputs": [],
   "source": []
  },
  {
   "cell_type": "markdown",
   "id": "7f7c99eb-944b-400e-8d39-c6f32d4524ef",
   "metadata": {},
   "source": [
    "## rank-list 의 4위부터 10위 까지의 랭킹 데이터 \n"
   ]
  },
  {
   "cell_type": "code",
   "execution_count": 198,
   "id": "7a08b624-7bc8-44af-bfbc-1b4ac0764baa",
   "metadata": {},
   "outputs": [
    {
     "data": {
      "text/plain": [
       "<div class=\"rank-list\"><div><div class=\"fluctuation\"><p><span>4위</span></p><p class=\"rank-list-number-new\">new</p></div><div><a href=\"/pages/perf/detail/detail.aspx?IdPerf=47421\"><img alt=\"화가시리즈 - 뮤지컬 〈에곤 실레〉\" class=\"rank-list-img\" src=\"http://tkfile.yes24.com/upload2/perfblog/202310/20231017/20231017-47421.jpg\"/></a></div><div><p class=\"rank-list-tit\"><a href=\"/pages/perf/detail/detail.aspx?IdPerf=47421\">화가시리즈 - 뮤지컬 〈에곤 실레〉</a></p><p class=\"rank-list-grade\"><span class=\"like-point\">43</span></p></div><div><p>2023.12.09~2024.03.10<br/>서경대학교 공연예술센터 스콘2관</p></div><div>6.2%</div></div><div><div class=\"fluctuation\"><p><span>5위</span></p><p class=\"rank-list-number-up\">8</p></div><div><a href=\"/pages/perf/detail/detail.aspx?IdPerf=47394\"><img alt=\"태양의서커스 〈루치아〉 - 부산\" class=\"rank-list-img\" src=\"http://tkfile.yes24.com/upload2/perfblog/202310/20231031/20231031-47394_1.jpg\"/></a></div><div><p class=\"rank-list-tit\"><a href=\"/pages/perf/detail/detail.aspx?IdPerf=47394\">태양의서커스 〈루치아〉 - 부산</a></p><p class=\"rank-list-grade\"><span class=\"like-point\">79</span></p></div><div><p>2024.01.13~2024.02.04<br/>신세계 센텀시티 내 빅탑</p></div><div>5.4%</div></div><div><div class=\"fluctuation\"><p><span>6위</span></p><p class=\"rank-list-number-up\">8</p></div><div><a href=\"/pages/perf/detail/detail.aspx?IdPerf=47090\"><img alt=\"오페레타 뮤지컬 〈판타지아〉 겨울시즌\" class=\"rank-list-img\" src=\"http://tkfile.yes24.com/upload2/perfblog/202311/20231113/20231113-47090.jpg\"/></a></div><div><p class=\"rank-list-tit\"><a href=\"/pages/perf/detail/detail.aspx?IdPerf=47090\">오페레타 뮤지컬 〈판타지아〉 겨울시즌</a></p><p class=\"rank-list-grade\"><span class=\"like-point\">15</span><span class=\"star-point\"><em style=\"width:62px;\"></em>4</span></p></div><div><p>2023.11.11~2023.12.31<br/>국립중앙박물관 내 극장용</p></div><div>4.3%</div></div><div><div class=\"fluctuation\"><p><span>7위</span></p><p>-</p></div><div><a href=\"/pages/perf/detail/detail.aspx?IdPerf=46662\"><img alt=\"뮤지컬 〈칠칠〉\" class=\"rank-list-img\" src=\"http://tkfile.yes24.com/upload2/perfblog/202309/20230918/20230918-46662_1.jpg\"/></a></div><div><p class=\"rank-list-tit\"><a href=\"/pages/perf/detail/detail.aspx?IdPerf=46662\">뮤지컬 〈칠칠〉</a></p><p class=\"rank-list-grade\"><span class=\"like-point\">160</span><span class=\"star-point\"><em style=\"width:62px;\"></em>4</span></p></div><div><p>2023.09.05~2023.11.26<br/>예스24스테이지 2관</p></div><div>3.4%</div></div><div><div class=\"fluctuation\"><p><span>8위</span></p><p class=\"rank-list-number-up\">11</p></div><div><a href=\"/pages/perf/detail/detail.aspx?IdPerf=47226\"><img alt=\"2023 〈마리 퀴리〉 - 서울\" class=\"rank-list-img\" src=\"http://tkfile.yes24.com/upload2/perfblog/202309/20230920/20230920-47226.jpg\"/></a></div><div><p class=\"rank-list-tit\"><a href=\"/pages/perf/detail/detail.aspx?IdPerf=47226\">2023 〈마리 퀴리〉 - 서울</a></p><p class=\"rank-list-grade\"><span class=\"like-point\">65</span></p></div><div><p>2023.11.24~2024.02.18<br/>홍익대 대학로 아트센터 대극장</p></div><div>3.4%</div></div><div><div class=\"fluctuation\"><p><span>9위</span></p><p class=\"rank-list-number-down\">8</p></div><div><a href=\"/pages/perf/detail/detail.aspx?IdPerf=47420\"><img alt=\"화가시리즈 - 뮤지컬 〈모딜리아니〉\" class=\"rank-list-img\" src=\"http://tkfile.yes24.com/upload2/perfblog/202310/20231017/20231017-47420.jpg\"/></a></div><div><p class=\"rank-list-tit\"><a href=\"/pages/perf/detail/detail.aspx?IdPerf=47420\">화가시리즈 - 뮤지컬 〈모딜리아니〉</a></p><p class=\"rank-list-grade\"><span class=\"like-point\">55</span></p></div><div><p>2023.12.09~2024.03.10<br/>서경대학교 공연예술센터 스콘2관</p></div><div>3.3%</div></div><div><div class=\"fluctuation\"><p><span>10위</span></p><p class=\"rank-list-number-down\">7</p></div><div><a href=\"/pages/perf/detail/detail.aspx?IdPerf=47295\"><img alt=\"뮤지컬 〈컴프롬어웨이〉\" class=\"rank-list-img\" src=\"http://tkfile.yes24.com/upload2/perfblog/202309/20230925/20230925-47295.jpg\"/></a></div><div><p class=\"rank-list-tit\"><a href=\"/pages/perf/detail/detail.aspx?IdPerf=47295\">뮤지컬 〈컴프롬어웨이〉</a></p><p class=\"rank-list-grade\"><span class=\"like-point\">75</span></p></div><div><p>2023.11.28~2024.02.18<br/>광림아트센터 BBCH홀</p></div><div>2.6%</div></div><div><div class=\"fluctuation\"><p><span>11위</span></p><p class=\"rank-list-number-up\">31</p></div><div><a href=\"/pages/perf/detail/detail.aspx?IdPerf=45927\"><img alt=\"뮤지컬 〈오페라의 유령〉 - 서울\" class=\"rank-list-img\" src=\"http://tkfile.yes24.com/upload2/perfblog/202305/20230511/20230511-45927.jpg\"/></a></div><div><p class=\"rank-list-tit\"><a href=\"/pages/perf/detail/detail.aspx?IdPerf=45927\">뮤지컬 〈오페라의 유령〉 - 서울</a></p><p class=\"rank-list-grade\"><span class=\"like-point\">1768</span><span class=\"star-point\"><em style=\"width:62px;\"></em>4</span></p></div><div><p>2023.07.21~2023.11.19<br/>샤롯데씨어터</p></div><div>2.3%</div></div><div><div class=\"fluctuation\"><p><span>12위</span></p><p class=\"rank-list-number-down\">2</p></div><div><a href=\"/pages/perf/detail/detail.aspx?IdPerf=47116\"><img alt=\"2023 푸에르자부르타 웨이라 인 서울\" class=\"rank-list-img\" src=\"http://tkfile.yes24.com/upload2/perfblog/202310/20231020/20231020-47116.jpg\"/></a></div><div><p class=\"rank-list-tit\"><a href=\"/pages/perf/detail/detail.aspx?IdPerf=47116\">2023 푸에르자부르타 웨이라 인 서울</a></p><p class=\"rank-list-grade\"><span class=\"like-point\">73</span></p></div><div><p>2023.11.17~2024.02.15<br/>성수문화예술마당 FB씨어터</p></div><div>2.2%</div></div><div><div class=\"fluctuation\"><p><span>13위</span></p><p class=\"rank-list-number-up\">14</p></div><div><a href=\"/pages/perf/detail/detail.aspx?IdPerf=46765\"><img alt=\"뮤지컬 〈레미제라블〉 - 부산\" class=\"rank-list-img\" src=\"http://tkfile.yes24.com/upload2/perfblog/202310/20231030/20231030-46765.jpg\"/></a></div><div><p class=\"rank-list-tit\"><a href=\"/pages/perf/detail/detail.aspx?IdPerf=46765\">뮤지컬 〈레미제라블〉 - 부산</a></p><p class=\"rank-list-grade\"><span class=\"like-point\">257</span><span class=\"star-point\"><em style=\"width:62px;\"></em>4</span></p></div><div><p>2023.10.11~2023.11.19<br/>드림씨어터</p></div><div>2.2%</div></div><div><div class=\"fluctuation\"><p><span>14위</span></p><p class=\"rank-list-number-down\">6</p></div><div><a href=\"/pages/perf/detail/detail.aspx?IdPerf=47311\"><img alt=\"어른이 뮤지컬 〈난쟁이들〉\" class=\"rank-list-img\" src=\"http://tkfile.yes24.com/upload2/perfblog/202309/20230926/20230926-47311.jpg\"/></a></div><div><p class=\"rank-list-tit\"><a href=\"/pages/perf/detail/detail.aspx?IdPerf=47311\">어른이 뮤지컬 〈난쟁이들〉</a></p><p class=\"rank-list-grade\"><span class=\"like-point\">93</span><span class=\"star-point\"><em style=\"width:62px;\"></em>4</span></p></div><div><p>2023.11.01~2024.01.21<br/>플러스씨어터</p></div><div>2.2%</div></div><div><div class=\"fluctuation\"><p><span>15위</span></p><p class=\"rank-list-number-up\">11</p></div><div><a href=\"/pages/perf/detail/detail.aspx?IdPerf=47289\"><img alt=\"[고양] 헬로카봇 뮤지컬 시즌7 〈웰컴 투 파라다이스〉\" class=\"rank-list-img\" src=\"http://tkfile.yes24.com/upload2/perfblog/202309/20230926/20230926-47289.jpg\"/></a></div><div><p class=\"rank-list-tit\"><a href=\"/pages/perf/detail/detail.aspx?IdPerf=47289\">[고양] 헬로카봇 뮤지컬 시즌7 〈웰컴 투 파라다이스〉</a></p><p class=\"rank-list-grade\"><span class=\"like-point\">9</span></p></div><div><p>2023.12.02~2023.12.03<br/>고양어울림누리 어울림극장</p></div><div>1.7%</div></div><div><div class=\"fluctuation\"><p><span>16위</span></p><p class=\"rank-list-number-up\">16</p></div><div><a href=\"/pages/perf/detail/detail.aspx?IdPerf=47370\"><img alt=\"개관 15주년 컬렉션 폐막작 - 창원 「뮤지컬 왕세자 실종사건」\" class=\"rank-list-img\" src=\"http://tkfile.yes24.com/upload2/perfblog/202310/20231005/20231005-47370.jpg\"/></a></div><div><p class=\"rank-list-tag\">단독</p><p class=\"rank-list-tit\"><a href=\"/pages/perf/detail/detail.aspx?IdPerf=47370\">개관 15주년 컬렉션 폐막작 - 창원 「뮤지컬 왕세자 실종사건」</a></p><p class=\"rank-list-grade\"><span class=\"like-point\">10</span></p></div><div><p>2023.11.17~2023.11.18<br/>3.15아트센터 대극장</p></div><div>1.4%</div></div><div><div class=\"fluctuation\"><p><span>17위</span></p><p class=\"rank-list-number-down\">6</p></div><div><a href=\"/pages/perf/detail/detail.aspx?IdPerf=46848\"><img alt=\"뮤지컬 더데빌 : 에덴\" class=\"rank-list-img\" src=\"http://tkfile.yes24.com/upload2/perfblog/202311/20231113/20231113-46848.jpg\"/></a></div><div><p class=\"rank-list-tit\"><a href=\"/pages/perf/detail/detail.aspx?IdPerf=46848\">뮤지컬 더데빌 : 에덴</a></p><p class=\"rank-list-grade\"><span class=\"like-point\">146</span><span class=\"star-point\"><em style=\"width:62px;\"></em>4</span></p></div><div><p>2023.09.21~2023.11.26<br/>대학로 유니플렉스 1관</p></div><div>1.4%</div></div><div><div class=\"fluctuation\"><p><span>18위</span></p><p class=\"rank-list-number-new\">new</p></div><div><a href=\"/pages/perf/detail/detail.aspx?IdPerf=47503\"><img alt=\"[천안] 20주년스페셜싱어롱쇼-슈퍼스타 뽀로로드림콘서트\" class=\"rank-list-img\" src=\"http://tkfile.yes24.com/upload2/perfblog/202310/20231016/20231016-47503.jpg\"/></a></div><div><p class=\"rank-list-tit\"><a href=\"/pages/perf/detail/detail.aspx?IdPerf=47503\">[천안] 20주년스페셜싱어롱쇼-슈퍼스타 뽀로로드림콘서트</a></p><p class=\"rank-list-grade\"><span class=\"like-point\">11</span></p></div><div><p>2023.12.23~2023.12.24<br/>성환문화회관</p></div><div>1.4%</div></div><div><div class=\"fluctuation\"><p><span>19위</span></p><p class=\"rank-list-number-up\">29</p></div><div><a href=\"/pages/perf/detail/detail.aspx?IdPerf=47551\"><img alt=\"뮤지컬 더데빌 : 파우스트\" class=\"rank-list-img\" src=\"http://tkfile.yes24.com/upload2/perfblog/202310/20231019/20231019-47551.jpg\"/></a></div><div><p class=\"rank-list-tit\"><a href=\"/pages/perf/detail/detail.aspx?IdPerf=47551\">뮤지컬 더데빌 : 파우스트</a></p><p class=\"rank-list-grade\"><span class=\"like-point\">62</span></p></div><div><p>2023.12.05~2024.03.03<br/>대학로 유니플렉스 1관</p></div><div>0.9%</div></div><div><div class=\"fluctuation\"><p><span>20위</span></p><p class=\"rank-list-number-up\">8</p></div><div><a href=\"/pages/perf/detail/detail.aspx?IdPerf=47497\"><img alt=\"[고양] 가족뮤지컬 〈고고다이노 - 고고킹의 귀환〉\" class=\"rank-list-img\" src=\"http://tkfile.yes24.com/upload2/perfblog/202310/20231016/20231016-47497.jpg\"/></a></div><div><p class=\"rank-list-tit\"><a href=\"/pages/perf/detail/detail.aspx?IdPerf=47497\">[고양] 가족뮤지컬 〈고고다이노 - 고고킹의 귀환〉</a></p><p class=\"rank-list-grade\"><span class=\"like-point\">21</span></p></div><div><p>2023.12.16~2023.12.17<br/>고양어울림누리 어울림극장</p></div><div>0.9%</div></div><div><div class=\"fluctuation\"><p><span>21위</span></p><p class=\"rank-list-number-up\">2</p></div><div><a href=\"/pages/perf/detail/detail.aspx?IdPerf=47130\"><img alt=\"뮤지컬 〈빨래〉\" class=\"rank-list-img\" src=\"http://tkfile.yes24.com/upload2/perfblog/202309/20230908/20230908-47130.jpg\"/></a></div><div><p class=\"rank-list-tit\"><a href=\"/pages/perf/detail/detail.aspx?IdPerf=47130\">뮤지컬 〈빨래〉</a></p><p class=\"rank-list-grade\"><span class=\"like-point\">27</span><span class=\"star-point\"><em style=\"width:78px;\"></em>5</span></p></div><div><p>2023.10.12~2024.05.26<br/>대학로 유니플렉스 2관</p></div><div>0.9%</div></div><div><div class=\"fluctuation\"><p><span>22위</span></p><p class=\"rank-list-number-new\">new</p></div><div><a href=\"/pages/perf/detail/detail.aspx?IdPerf=47172\"><img alt=\"[대전] 뮤지컬 〈그날들〉 10주년 기념 공연\" class=\"rank-list-img\" src=\"http://tkfile.yes24.com/upload2/perfblog/202309/20230918/20230918-47172.jpg\"/></a></div><div><p class=\"rank-list-tit\"><a href=\"/pages/perf/detail/detail.aspx?IdPerf=47172\">[대전] 뮤지컬 〈그날들〉 10주년 기념 공연</a></p><p class=\"rank-list-grade\"><span class=\"like-point\">20</span></p></div><div><p>2023.11.17~2023.11.19<br/>대전예술의전당 아트홀</p></div><div>0.8%</div></div><div><div class=\"fluctuation\"><p><span>23위</span></p><p class=\"rank-list-number-new\">new</p></div><div><a href=\"/pages/perf/detail/detail.aspx?IdPerf=46874\"><img alt=\"2023~24 최현우 Answer\" class=\"rank-list-img\" src=\"http://tkfile.yes24.com/upload2/perfblog/202308/20230816/20230816-46874.jpg\"/></a></div><div><p class=\"rank-list-tit\"><a href=\"/pages/perf/detail/detail.aspx?IdPerf=46874\">2023~24 최현우 Answer</a></p><p class=\"rank-list-grade\"><span class=\"like-point\">8</span></p></div><div><p>2023.12.23~2024.01.14<br/>마포아트센터 아트홀맥</p></div><div>0.8%</div></div><div><div class=\"fluctuation\"><p><span>24위</span></p><p class=\"rank-list-number-up\">25</p></div><div><a href=\"/pages/perf/detail/detail.aspx?IdPerf=47660\"><img alt=\"가족매지컬 스크루지 〈크리스마스 캐롤〉\" class=\"rank-list-img\" src=\"http://tkfile.yes24.com/upload2/perfblog/202310/20231030/20231030-47660.jpg\"/></a></div><div><p class=\"rank-list-tit\"><a href=\"/pages/perf/detail/detail.aspx?IdPerf=47660\">가족매지컬 스크루지 〈크리스마스 캐롤〉</a></p><p class=\"rank-list-grade\"><span class=\"like-point\">24</span></p></div><div><p>2023.12.12~2024.01.21<br/>인천어린이과학관 공연장</p></div><div>0.8%</div></div><div><div class=\"fluctuation\"><p><span>25위</span></p><p class=\"rank-list-number-down\">13</p></div><div><a href=\"/pages/perf/detail/detail.aspx?IdPerf=47762\"><img alt=\"[양산] 가족뮤지컬 〈고고다이노 - 고고킹의 귀환〉\" class=\"rank-list-img\" src=\"http://tkfile.yes24.com/upload2/perfblog/202311/20231108/20231108-47762.jpg\"/></a></div><div><p class=\"rank-list-tit\"><a href=\"/pages/perf/detail/detail.aspx?IdPerf=47762\">[양산] 가족뮤지컬 〈고고다이노 - 고고킹의 귀환〉</a></p><p class=\"rank-list-grade\"><span class=\"like-point\">21</span></p></div><div><p>2024.01.06~2024.01.07<br/>양산문화예술회관 대극장</p></div><div>0.6%</div></div><div><div class=\"fluctuation\"><p><span>26위</span></p><p class=\"rank-list-number-down\">17</p></div><div><a href=\"/pages/perf/detail/detail.aspx?IdPerf=47438\"><img alt=\"뮤지컬 〈키다리 아저씨〉\" class=\"rank-list-img\" src=\"http://tkfile.yes24.com/upload2/perfblog/202310/20231011/20231011-47438.jpg\"/></a></div><div><p class=\"rank-list-tit\"><a href=\"/pages/perf/detail/detail.aspx?IdPerf=47438\">뮤지컬 〈키다리 아저씨〉</a></p><p class=\"rank-list-grade\"><span class=\"like-point\">169</span></p></div><div><p>2023.12.05~2024.02.25<br/>대학로 드림아트센터 1관</p></div><div>0.6%</div></div><div><div class=\"fluctuation\"><p><span>27위</span></p><p class=\"rank-list-number-down\">22</p></div><div><a href=\"/pages/perf/detail/detail.aspx?IdPerf=46733\"><img alt=\"뮤지컬 〈비더슈탄트〉\" class=\"rank-list-img\" src=\"http://tkfile.yes24.com/upload2/perfblog/202308/20230828/20230828-46733.jpg\"/></a></div><div><p class=\"rank-list-tit\"><a href=\"/pages/perf/detail/detail.aspx?IdPerf=46733\">뮤지컬 〈비더슈탄트〉</a></p><p class=\"rank-list-grade\"><span class=\"like-point\">302</span><span class=\"star-point\"><em style=\"width:62px;\"></em>4</span></p></div><div><p>2023.09.12~2023.11.26<br/>대학로 드림아트센터 1관</p></div><div>0.6%</div></div><div><div class=\"fluctuation\"><p><span>28위</span></p><p class=\"rank-list-number-down\">13</p></div><div><a href=\"/pages/perf/detail/detail.aspx?IdPerf=47231\"><img alt=\"가족뮤지컬 〈장화 신은 고양이 비긴즈〉 - 플레이버전\" class=\"rank-list-img\" src=\"http://tkfile.yes24.com/upload2/perfblog/202311/20231113/20231113-47231.jpg\"/></a></div><div><p class=\"rank-list-tit\"><a href=\"/pages/perf/detail/detail.aspx?IdPerf=47231\">가족뮤지컬 〈장화 신은 고양이 비긴즈〉 - 플레이버전</a></p><p class=\"rank-list-grade\"><span class=\"like-point\">13</span></p></div><div><p>2023.12.16~2024.02.25<br/>KT&amp;G 상상마당 대치아트홀</p></div><div>0.6%</div></div><div><div class=\"fluctuation\"><p><span>29위</span></p><p class=\"rank-list-number-up\">14</p></div><div><a href=\"/pages/perf/detail/detail.aspx?IdPerf=47230\"><img alt=\"창작가무극 〈순신〉\" class=\"rank-list-img\" src=\"http://tkfile.yes24.com/upload2/perfblog/202311/20231106/20231106-47230.jpg\"/></a></div><div><p class=\"rank-list-tit\"><a href=\"/pages/perf/detail/detail.aspx?IdPerf=47230\">창작가무극 〈순신〉</a></p><p class=\"rank-list-grade\"><span class=\"like-point\">17</span><span class=\"star-point\"><em style=\"width:78px;\"></em>5</span></p></div><div><p>2023.11.08~2023.11.26<br/>예술의전당 CJ 토월극장</p></div><div>0.6%</div></div><div><div class=\"fluctuation\"><p><span>30위</span></p><p class=\"rank-list-number-up\">4</p></div><div><a href=\"/pages/perf/detail/detail.aspx?IdPerf=47250\"><img alt=\"[고양] 뮤지컬 〈JUMP 점프〉\" class=\"rank-list-img\" src=\"http://tkfile.yes24.com/upload2/perfblog/202309/20230925/20230925-47250.jpg\"/></a></div><div><p class=\"rank-list-tit\"><a href=\"/pages/perf/detail/detail.aspx?IdPerf=47250\">[고양] 뮤지컬 〈JUMP 점프〉</a></p><p class=\"rank-list-grade\"></p></div><div><p>2023.12.09~2023.12.10<br/>고양어울림누리 어울림극장</p></div><div>0.6%</div></div><div><div class=\"fluctuation\"><p><span>31위</span></p><p class=\"rank-list-number-up\">8</p></div><div><a href=\"/pages/perf/detail/detail.aspx?IdPerf=47340\"><img alt=\"[대구]가족뮤지컬〈고양이해결사깜냥-편의점을환하게밝혀라〉\" class=\"rank-list-img\" src=\"http://tkfile.yes24.com/upload2/perfblog/202310/20231011/20231011-47340.jpg\"/></a></div><div><p class=\"rank-list-tit\"><a href=\"/pages/perf/detail/detail.aspx?IdPerf=47340\">[대구]가족뮤지컬〈고양이해결사깜냥-편의점을환하게밝혀라〉</a></p><p class=\"rank-list-grade\"><span class=\"like-point\">4</span></p></div><div><p>2023.12.16~2023.12.17<br/>대구보건대 인당아트홀</p></div><div>0.5%</div></div><div><div class=\"fluctuation\"><p><span>32위</span></p><p class=\"rank-list-number-down\">7</p></div><div><a href=\"/pages/perf/detail/detail.aspx?IdPerf=47496\"><img alt=\"[대전] 뮤지컬 〈빨래〉\" class=\"rank-list-img\" src=\"http://tkfile.yes24.com/upload2/perfblog/202310/20231016/20231016-47496.jpg\"/></a></div><div><p class=\"rank-list-tit\"><a href=\"/pages/perf/detail/detail.aspx?IdPerf=47496\">[대전] 뮤지컬 〈빨래〉</a></p><p class=\"rank-list-grade\"><span class=\"like-point\">6</span></p></div><div><p>2023.12.29~2023.12.31<br/>대전시립연정국악원 큰마당</p></div><div>0.5%</div></div><div><div class=\"fluctuation\"><p><span>33위</span></p><p class=\"rank-list-number-down\">4</p></div><div><a href=\"/pages/perf/detail/detail.aspx?IdPerf=47532\"><img alt=\"[광주] 헬로카봇 뮤지컬 시즌7 〈웰컴 투 파라다이스〉\" class=\"rank-list-img\" src=\"http://tkfile.yes24.com/upload2/perfblog/202310/20231018/20231018-47532.jpg\"/></a></div><div><p class=\"rank-list-tit\"><a href=\"/pages/perf/detail/detail.aspx?IdPerf=47532\">[광주] 헬로카봇 뮤지컬 시즌7 〈웰컴 투 파라다이스〉</a></p><p class=\"rank-list-grade\"><span class=\"like-point\">9</span></p></div><div><p>2023.12.23~2023.12.24<br/>조선대학교 해오름관</p></div><div>0.3%</div></div><div><div class=\"fluctuation\"><p><span>34위</span></p><p class=\"rank-list-number-up\">13</p></div><div><a href=\"/pages/perf/detail/detail.aspx?IdPerf=47556\"><img alt=\"빅보스랜드 - 빅파이브 콘서트\" class=\"rank-list-img\" src=\"http://tkfile.yes24.com/upload2/perfblog/202310/20231030/20231030-47556.jpg\"/></a></div><div><p class=\"rank-list-tag\">단독</p><p class=\"rank-list-tit\"><a href=\"/pages/perf/detail/detail.aspx?IdPerf=47556\">빅보스랜드 - 빅파이브 콘서트</a></p><p class=\"rank-list-grade\"><span class=\"like-point\">72</span></p></div><div><p>2023.12.08~2023.12.09<br/>삼성동 백암아트홀</p></div><div>0.3%</div></div><div><div class=\"fluctuation\"><p><span>35위</span></p><p class=\"rank-list-number-down\">13</p></div><div><a href=\"/pages/perf/detail/detail.aspx?IdPerf=47128\"><img alt=\"[전주 앵콜] 캐치! 티니핑 〈신비한 상자를 열어라!〉\" class=\"rank-list-img\" src=\"http://tkfile.yes24.com/upload2/perfblog/202309/20230913/20230913-47128.jpg\"/></a></div><div><p class=\"rank-list-tit\"><a href=\"/pages/perf/detail/detail.aspx?IdPerf=47128\">[전주 앵콜] 캐치! 티니핑 〈신비한 상자를 열어라!〉</a></p><p class=\"rank-list-grade\"><span class=\"like-point\">15</span></p></div><div><p>2023.11.18~2023.11.19<br/>한국소리문화의전당 모악당</p></div><div>0.3%</div></div><div><div class=\"fluctuation\"><p><span>36위</span></p><p class=\"rank-list-number-new\">new</p></div><div><a href=\"/pages/perf/detail/detail.aspx?IdPerf=46903\"><img alt=\"뮤지컬 〈위윌락유〉\" class=\"rank-list-img\" src=\"http://tkfile.yes24.com/upload2/perfblog/202310/20231024/20231024-46903.jpg\"/></a></div><div><p class=\"rank-list-tit\"><a href=\"/pages/perf/detail/detail.aspx?IdPerf=46903\">뮤지컬 〈위윌락유〉</a></p><p class=\"rank-list-grade\"><span class=\"like-point\">46</span><span class=\"star-point\"><em style=\"width:62px;\"></em>4</span></p></div><div><p>2023.09.22~2023.12.31<br/>대학로 더 굿씨어터</p></div><div>0.3%</div></div><div><div class=\"fluctuation\"><p><span>37위</span></p><p class=\"rank-list-number-new\">new</p></div><div><a href=\"/pages/perf/detail/detail.aspx?IdPerf=38930\"><img alt=\"락뮤지컬 [프리즌]\" class=\"rank-list-img\" src=\"http://tkfile.yes24.com/upload2/perfblog/202309/20230908/20230908-38930.jpg\"/></a></div><div><p class=\"rank-list-tit\"><a href=\"/pages/perf/detail/detail.aspx?IdPerf=38930\">락뮤지컬 [프리즌]</a></p><p class=\"rank-list-grade\"><span class=\"like-point\">23</span><span class=\"star-point\"><em style=\"width:78px;\"></em>5</span></p></div><div><p>2020.04.29~2023.12.31<br/>에이치씨어터</p></div><div>0.3%</div></div><div><div class=\"fluctuation\"><p><span>38위</span></p><p class=\"rank-list-number-up\">8</p></div><div><a href=\"/pages/perf/detail/detail.aspx?IdPerf=47061\"><img alt=\"[익산] 이은결 〈MAGIC &amp; ILLUSION〉\" class=\"rank-list-img\" src=\"http://tkfile.yes24.com/upload2/perfblog/202309/20230905/20230905-47061.jpg\"/></a></div><div><p class=\"rank-list-tit\"><a href=\"/pages/perf/detail/detail.aspx?IdPerf=47061\">[익산] 이은결 〈MAGIC &amp; ILLUSION〉</a></p><p class=\"rank-list-grade\"><span class=\"like-point\">2</span></p></div><div><p>2023.12.09~2023.12.10<br/>익산 예술의전당 대공연장</p></div><div>0.3%</div></div><div><div class=\"fluctuation\"><p><span>39위</span></p><p class=\"rank-list-number-down\">21</p></div><div><a href=\"/pages/perf/detail/detail.aspx?IdPerf=46785\"><img alt=\"뮤지컬 〈삼총사〉\" class=\"rank-list-img\" src=\"http://tkfile.yes24.com/upload2/perfblog/202310/20231023/20231023-46785.jpg\"/></a></div><div><p class=\"rank-list-tit\"><a href=\"/pages/perf/detail/detail.aspx?IdPerf=46785\">뮤지컬 〈삼총사〉</a></p><p class=\"rank-list-grade\"><span class=\"like-point\">227</span><span class=\"star-point\"><em style=\"width:62px;\"></em>4</span></p></div><div><p>2023.09.15~2023.11.19<br/>한전아트센터</p></div><div>0.2%</div></div><div><div class=\"fluctuation\"><p><span>40위</span></p><p class=\"rank-list-number-up\">5</p></div><div><a href=\"/pages/perf/detail/detail.aspx?IdPerf=42742\"><img alt=\"뮤지컬 [렛미플라이] OST\" class=\"rank-list-img\" src=\"http://tkfile.yes24.com/upload2/perfblog/202206/20220629/20220629-42742.jpg\"/></a></div><div><p class=\"rank-list-tit\"><a href=\"/pages/perf/detail/detail.aspx?IdPerf=42742\">뮤지컬 [렛미플라이] OST</a></p><p class=\"rank-list-grade\"><span class=\"like-point\">87</span><span class=\"star-point\"><em style=\"width:62px;\"></em>4</span></p></div><div><p>2022.06.30~2024.06.30<br/>예약판매</p></div><div>0.2%</div></div><div><div class=\"fluctuation\"><p><span>41위</span></p><p class=\"rank-list-number-down\">20</p></div><div><a href=\"/pages/perf/detail/detail.aspx?IdPerf=47248\"><img alt=\"[광주] 뮤지컬 〈삼총사〉\" class=\"rank-list-img\" src=\"http://tkfile.yes24.com/upload2/perfblog/202309/20230925/20230925-47248.jpg\"/></a></div><div><p class=\"rank-list-tit\"><a href=\"/pages/perf/detail/detail.aspx?IdPerf=47248\">[광주] 뮤지컬 〈삼총사〉</a></p><p class=\"rank-list-grade\"><span class=\"like-point\">26</span></p></div><div><p>2023.12.01~2023.12.03<br/>광주 예술의전당 대극장</p></div><div>0.2%</div></div></div>"
      ]
     },
     "execution_count": 198,
     "metadata": {},
     "output_type": "execute_result"
    }
   ],
   "source": [
    "list410 = soup1.find(\"div\" , class_=\"rank-list\")\n",
    "list410"
   ]
  },
  {
   "cell_type": "code",
   "execution_count": 91,
   "id": "2ab59c86-a1ad-4568-b642-190ff5e06630",
   "metadata": {},
   "outputs": [
    {
     "data": {
      "text/plain": [
       "['화가시리즈 - 뮤지컬 〈에곤 실레〉',\n",
       " '뮤지컬 〈비더슈탄트〉',\n",
       " '오페레타 뮤지컬 〈판타지아〉 겨울시즌',\n",
       " '화가시리즈 - 뮤지컬 〈모딜리아니〉',\n",
       " '뮤지컬 〈칠칠〉',\n",
       " '태양의서커스 〈루치아〉 - 부산',\n",
       " '뮤지컬 〈컴프롬어웨이〉']"
      ]
     },
     "execution_count": 91,
     "metadata": {},
     "output_type": "execute_result"
    }
   ],
   "source": [
    "titles410 = [p.text for p in list410.find_all('p', class_='rank-list-tit')]\n",
    "titles410[:7]"
   ]
  },
  {
   "cell_type": "code",
   "execution_count": 199,
   "id": "dc50d608-d84e-4330-b259-483c10046cb1",
   "metadata": {},
   "outputs": [
    {
     "data": {
      "text/plain": [
       "'4'"
      ]
     },
     "execution_count": 199,
     "metadata": {},
     "output_type": "execute_result"
    }
   ],
   "source": [
    "# rank 추출\n",
    "list410.find_all(\"div\",class_=\"fluctuation\")[0].find(\"span\").get_text()[:-1]"
   ]
  },
  {
   "cell_type": "code",
   "execution_count": 200,
   "id": "96f9b1fd-7ba7-4564-971a-95a4a1ee2ea4",
   "metadata": {},
   "outputs": [
    {
     "data": {
      "text/plain": [
       "[<p><span>5위</span></p>,\n",
       " <p class=\"rank-list-number-up\">8</p>,\n",
       " <p class=\"rank-list-tit\"><a href=\"/pages/perf/detail/detail.aspx?IdPerf=47394\">태양의서커스 〈루치아〉 - 부산</a></p>,\n",
       " <p class=\"rank-list-grade\"><span class=\"like-point\">79</span></p>,\n",
       " <p>2024.01.13~2024.02.04<br/>신세계 센텀시티 내 빅탑</p>]"
      ]
     },
     "execution_count": 200,
     "metadata": {},
     "output_type": "execute_result"
    }
   ],
   "source": [
    "# 날짜, 장소 추출\n",
    "# 해당 관련 class나 특이점이 없다.\n",
    "# list410.find_all(\"div\",class_=False) 여기서 0, 5, 10, 15, ... 마다 관련된 모든 데이터가 있음을 알 수 있다.\n",
    "# for문 시 이 점을 참고해서 작성해야 할 듯.\n",
    "list410.find_all(\"div\",class_=False)[5].find_all(\"p\")     "
   ]
  },
  {
   "cell_type": "code",
   "execution_count": 201,
   "id": "61592a25-94f0-4ff4-9f2d-49dc85467ac1",
   "metadata": {},
   "outputs": [
    {
     "data": {
      "text/plain": [
       "'5'"
      ]
     },
     "execution_count": 201,
     "metadata": {},
     "output_type": "execute_result"
    }
   ],
   "source": [
    "# rank\n",
    "list410.find_all(\"div\",class_=False)[5].find_all(\"p\")[0].get_text()[:-1]"
   ]
  },
  {
   "cell_type": "code",
   "execution_count": 202,
   "id": "5f1af374-369f-42cf-84a6-321aa1a1c5c1",
   "metadata": {},
   "outputs": [
    {
     "data": {
      "text/plain": [
       "'태양의서커스 〈루치아〉 - 부산'"
      ]
     },
     "execution_count": 202,
     "metadata": {},
     "output_type": "execute_result"
    }
   ],
   "source": [
    "# title\n",
    "title= list410.find_all(\"div\",class_=False)[5].find_all(\"p\")[2].get_text()\n",
    "title"
   ]
  },
  {
   "cell_type": "code",
   "execution_count": 157,
   "id": "a0c7430e-72ef-4e6b-98e0-bb6927b355ce",
   "metadata": {},
   "outputs": [
    {
     "data": {
      "text/plain": [
       "'46733'"
      ]
     },
     "execution_count": 157,
     "metadata": {},
     "output_type": "execute_result"
    }
   ],
   "source": [
    "# 뮤지컬 ID\n",
    "list410.find_all(\"div\",class_=False)[5].find_all(\"p\")[2].find(\"a\").get(\"href\").split(\"=\")[1]"
   ]
  },
  {
   "cell_type": "code",
   "execution_count": 162,
   "id": "9f7bf944-6eb0-462f-8c46-02e8ab14e5ef",
   "metadata": {},
   "outputs": [
    {
     "data": {
      "text/plain": [
       "'2023.09.12~2023.11.26'"
      ]
     },
     "execution_count": 162,
     "metadata": {},
     "output_type": "execute_result"
    }
   ],
   "source": [
    "# 날짜\n",
    "list410.find_all(\"div\",class_=False)[5].find_all(\"p\")[-1].get_text(separator='|', strip=True).split('|')[0]"
   ]
  },
  {
   "cell_type": "code",
   "execution_count": 165,
   "id": "3893c04f-83d3-4f18-bb9a-c02cb1909956",
   "metadata": {},
   "outputs": [
    {
     "data": {
      "text/plain": [
       "'대학로 드림아트센터 1관'"
      ]
     },
     "execution_count": 165,
     "metadata": {},
     "output_type": "execute_result"
    }
   ],
   "source": [
    "# 장소\n",
    "list410.find_all(\"div\",class_=False)[5].find_all(\"p\")[-1].get_text(separator='|', strip=True).split('|')[1]"
   ]
  },
  {
   "cell_type": "code",
   "execution_count": 169,
   "id": "5be4e5fe-2819-40a5-a45b-e040d4a80144",
   "metadata": {},
   "outputs": [
    {
     "data": {
      "text/plain": [
       "'http://tkfile.yes24.com/upload2/perfblog/202308/20230828/20230828-46733.jpg'"
      ]
     },
     "execution_count": 169,
     "metadata": {},
     "output_type": "execute_result"
    }
   ],
   "source": [
    "# img_url\n",
    "\n",
    "list410.find(\"img\", alt=title).get(\"src\")"
   ]
  },
  {
   "cell_type": "code",
   "execution_count": null,
   "id": "f27f69bd-484c-47cf-ae90-e9b46f411e7c",
   "metadata": {},
   "outputs": [],
   "source": []
  },
  {
   "cell_type": "markdown",
   "id": "049c1459-ef69-43dc-be41-36b72164dfe8",
   "metadata": {},
   "source": [
    "## `yes24티켓` 랭킹 1~10위까지 데이터 추출"
   ]
  },
  {
   "cell_type": "code",
   "execution_count": 170,
   "id": "2bf2ba4b-89f1-43db-922b-4521553965df",
   "metadata": {},
   "outputs": [
    {
     "data": {
      "text/plain": [
       "13"
      ]
     },
     "execution_count": 170,
     "metadata": {},
     "output_type": "execute_result"
    }
   ],
   "source": [
    "day = datetime.today().day\n",
    "day"
   ]
  },
  {
   "cell_type": "code",
   "execution_count": 171,
   "id": "a0140f86-49b5-4c91-82b1-8416b3824155",
   "metadata": {},
   "outputs": [],
   "source": [
    "# yes_url = \"http://ticket.yes24.com/New/Rank/Ranking.aspx?genre=15457\"\n",
    "\n",
    "yes_url = \"http://ticket.yes24.com/New/Rank/Ajax/RankList.aspx\"\n",
    "\n",
    "payload = {\n",
    "    \"pt\": \"1\"\n",
    "    ,\"ci\": \"16\"\n",
    "    ,\"et\": \"2023-11-{}\".format(day)\n",
    "}\n",
    "\n",
    "header = {\n",
    "    \"User-Agent\": \"Mozilla/5.0 (Windows NT 10.0; Win64; x64) AppleWebKit/537.36 (KHTML, like Gecko) Chrome/119.0.0.0 Safari/537.36\"\n",
    "}"
   ]
  },
  {
   "cell_type": "code",
   "execution_count": 173,
   "id": "50e67b3c-9621-4969-b78a-230eb173572e",
   "metadata": {},
   "outputs": [],
   "source": [
    "r1 = requests.post(yes_url, payload ,headers= header)\n",
    "\n",
    "soup1 = BeautifulSoup(r1.text, \"html.parser\")\n",
    "\n",
    "# 랭킹 1~3위 데이터\n",
    "best123 = soup1.find_all(\"div\", class_=\"rank-best\")\n",
    "\n",
    "# 랭킹 4~10위 데이터\n",
    "list410 = soup1.find_all(\"div\", class_=\"rank-list\")"
   ]
  },
  {
   "cell_type": "code",
   "execution_count": 203,
   "id": "498a2365-2c7b-4e19-9880-70ee76f5f771",
   "metadata": {},
   "outputs": [
    {
     "name": "stdout",
     "output_type": "stream",
     "text": [
      "끝\n"
     ]
    }
   ],
   "source": [
    "check = True\n",
    "data_list = []\n",
    "\n",
    "# try:\n",
    "# 랭킹 1~3위 추출\n",
    "for i in range(3):\n",
    "    y_dict = {\n",
    "        'site_name' : '예스24티켓',\n",
    "        'rank' : None,\n",
    "        'name': None,\n",
    "        'date' : None,\n",
    "        'location' : None,\n",
    "        'img_url' : None,\n",
    "        'goods' : None\n",
    "    }\n",
    "    \n",
    "    title_y = best123.find_all(\"p\", class_=\"rlb-tit\")[i].get_text()\n",
    "    date_y = best123.find_all('p', class_=\"rlb-sub-tit\")[i].get_text(separator='|', strip=True).split('|')[0]\n",
    "    location_y = best123.find_all('p', class_=\"rlb-sub-tit\")[i].get_text(separator='|', strip=True).split('|')[1]\n",
    "    img_url_y = best123.find_all(\"span\", class_=\"rank-best-img\")[i].find(\"img\",class_=\"rank-best-img\").get(\"src\")\n",
    "    goods_y = best123.find(\"a\", title = title_y).get(\"href\").split(\"=\")[1]\n",
    "    rank_y = best123.find_all(\"p\", class_ = \"rank-best-number\")[i].find(\"span\").get_text()[:-1]\n",
    "\n",
    "    y_dict = {\n",
    "        'site_name' : '예스24티켓',\n",
    "        'rank' : rank_y,\n",
    "        'name': title_y,\n",
    "        'date' : date_y,\n",
    "        'location' : location_y,\n",
    "        'img_url' : img_url_y,\n",
    "        'goods' : \"http://ticket.yes24.com/Perf/{}\".format(goods_y)\n",
    "    }\n",
    "\n",
    "    data_list.append(y_dict)\n",
    "\n",
    "\n",
    "for i in range(0,31,5):\n",
    "    y_dict = {\n",
    "        'site_name' : '예스24티켓',\n",
    "        'rank' : None,\n",
    "        'name': None,\n",
    "        'date' : None,\n",
    "        'location' : None,\n",
    "        'img_url' : None,\n",
    "        'goods' : None\n",
    "    }\n",
    "\n",
    "    title_y = list410.find_all(\"div\",class_=False)[i].find_all(\"p\")[2].get_text()\n",
    "    date_y = list410.find_all(\"div\",class_=False)[i].find_all(\"p\")[-1].get_text(separator='|', strip=True).split('|')[0]\n",
    "    location_y = list410.find_all(\"div\",class_=False)[i].find_all(\"p\")[-1].get_text(separator='|', strip=True).split('|')[1]\n",
    "    img_url_y = list410.find(\"img\", alt=title_y).get(\"src\")\n",
    "    goods_y = list410.find_all(\"div\",class_=False)[i].find_all(\"p\")[2].find(\"a\").get(\"href\").split(\"=\")[1]\n",
    "    rank_y = list410.find_all(\"div\",class_=False)[i].find_all(\"p\")[0].get_text()[:-1]\n",
    "    \n",
    "    y_dict = {\n",
    "        'site_name' : '예스24티켓',\n",
    "        'rank' : rank_y,\n",
    "        'name': title_y,\n",
    "        'date' : date_y,\n",
    "        'location' : location_y,\n",
    "        'img_url' : img_url_y,\n",
    "        'goods' : \"http://ticket.yes24.com/Perf/{}\".format(goods_y)\n",
    "    }\n",
    "\n",
    "    data_list.append(y_dict)\n",
    "\n",
    "# except Exception as e:\n",
    "#     print(e)\n",
    "\n",
    "yes24_df= pd.DataFrame(data_list)\n",
    "\n",
    "print(\"끝\")"
   ]
  },
  {
   "cell_type": "code",
   "execution_count": 204,
   "id": "87e445ea-ac93-41b6-ab30-57fee5af09d5",
   "metadata": {},
   "outputs": [
    {
     "data": {
      "text/html": [
       "<div>\n",
       "<style scoped>\n",
       "    .dataframe tbody tr th:only-of-type {\n",
       "        vertical-align: middle;\n",
       "    }\n",
       "\n",
       "    .dataframe tbody tr th {\n",
       "        vertical-align: top;\n",
       "    }\n",
       "\n",
       "    .dataframe thead th {\n",
       "        text-align: right;\n",
       "    }\n",
       "</style>\n",
       "<table border=\"1\" class=\"dataframe\">\n",
       "  <thead>\n",
       "    <tr style=\"text-align: right;\">\n",
       "      <th></th>\n",
       "      <th>site_name</th>\n",
       "      <th>rank</th>\n",
       "      <th>name</th>\n",
       "      <th>date</th>\n",
       "      <th>location</th>\n",
       "      <th>img_url</th>\n",
       "      <th>goods</th>\n",
       "    </tr>\n",
       "  </thead>\n",
       "  <tbody>\n",
       "    <tr>\n",
       "      <th>0</th>\n",
       "      <td>예스24티켓</td>\n",
       "      <td>1</td>\n",
       "      <td>태양의서커스 〈루치아〉</td>\n",
       "      <td>2023.10.25~2023.12.31</td>\n",
       "      <td>잠실종합운동장 내 빅탑</td>\n",
       "      <td>http://tkfile.yes24.com/upload2/perfblog/20230...</td>\n",
       "      <td>http://ticket.yes24.com/Perf/46305</td>\n",
       "    </tr>\n",
       "    <tr>\n",
       "      <th>1</th>\n",
       "      <td>예스24티켓</td>\n",
       "      <td>2</td>\n",
       "      <td>뮤지컬 〈드라이 플라워〉</td>\n",
       "      <td>2023.11.07~2024.01.07</td>\n",
       "      <td>대학로 드림아트센터 3관</td>\n",
       "      <td>http://tkfile.yes24.com/upload2/perfblog/20231...</td>\n",
       "      <td>http://ticket.yes24.com/Perf/47290</td>\n",
       "    </tr>\n",
       "    <tr>\n",
       "      <th>2</th>\n",
       "      <td>예스24티켓</td>\n",
       "      <td>3</td>\n",
       "      <td>뮤지컬 〈렛미플라이〉</td>\n",
       "      <td>2023.09.26~2023.12.10</td>\n",
       "      <td>예스24스테이지 1관</td>\n",
       "      <td>http://tkfile.yes24.com/upload2/perfblog/20231...</td>\n",
       "      <td>http://ticket.yes24.com/Perf/46671</td>\n",
       "    </tr>\n",
       "    <tr>\n",
       "      <th>3</th>\n",
       "      <td>예스24티켓</td>\n",
       "      <td>4</td>\n",
       "      <td>화가시리즈 - 뮤지컬 〈에곤 실레〉</td>\n",
       "      <td>2023.12.09~2024.03.10</td>\n",
       "      <td>서경대학교 공연예술센터 스콘2관</td>\n",
       "      <td>http://tkfile.yes24.com/upload2/perfblog/20231...</td>\n",
       "      <td>http://ticket.yes24.com/Perf/47421</td>\n",
       "    </tr>\n",
       "    <tr>\n",
       "      <th>4</th>\n",
       "      <td>예스24티켓</td>\n",
       "      <td>5</td>\n",
       "      <td>태양의서커스 〈루치아〉 - 부산</td>\n",
       "      <td>2024.01.13~2024.02.04</td>\n",
       "      <td>신세계 센텀시티 내 빅탑</td>\n",
       "      <td>http://tkfile.yes24.com/upload2/perfblog/20231...</td>\n",
       "      <td>http://ticket.yes24.com/Perf/47394</td>\n",
       "    </tr>\n",
       "    <tr>\n",
       "      <th>5</th>\n",
       "      <td>예스24티켓</td>\n",
       "      <td>6</td>\n",
       "      <td>오페레타 뮤지컬 〈판타지아〉 겨울시즌</td>\n",
       "      <td>2023.11.11~2023.12.31</td>\n",
       "      <td>국립중앙박물관 내 극장용</td>\n",
       "      <td>http://tkfile.yes24.com/upload2/perfblog/20231...</td>\n",
       "      <td>http://ticket.yes24.com/Perf/47090</td>\n",
       "    </tr>\n",
       "    <tr>\n",
       "      <th>6</th>\n",
       "      <td>예스24티켓</td>\n",
       "      <td>7</td>\n",
       "      <td>뮤지컬 〈칠칠〉</td>\n",
       "      <td>2023.09.05~2023.11.26</td>\n",
       "      <td>예스24스테이지 2관</td>\n",
       "      <td>http://tkfile.yes24.com/upload2/perfblog/20230...</td>\n",
       "      <td>http://ticket.yes24.com/Perf/46662</td>\n",
       "    </tr>\n",
       "    <tr>\n",
       "      <th>7</th>\n",
       "      <td>예스24티켓</td>\n",
       "      <td>8</td>\n",
       "      <td>2023 〈마리 퀴리〉 - 서울</td>\n",
       "      <td>2023.11.24~2024.02.18</td>\n",
       "      <td>홍익대 대학로 아트센터 대극장</td>\n",
       "      <td>http://tkfile.yes24.com/upload2/perfblog/20230...</td>\n",
       "      <td>http://ticket.yes24.com/Perf/47226</td>\n",
       "    </tr>\n",
       "    <tr>\n",
       "      <th>8</th>\n",
       "      <td>예스24티켓</td>\n",
       "      <td>9</td>\n",
       "      <td>화가시리즈 - 뮤지컬 〈모딜리아니〉</td>\n",
       "      <td>2023.12.09~2024.03.10</td>\n",
       "      <td>서경대학교 공연예술센터 스콘2관</td>\n",
       "      <td>http://tkfile.yes24.com/upload2/perfblog/20231...</td>\n",
       "      <td>http://ticket.yes24.com/Perf/47420</td>\n",
       "    </tr>\n",
       "    <tr>\n",
       "      <th>9</th>\n",
       "      <td>예스24티켓</td>\n",
       "      <td>10</td>\n",
       "      <td>뮤지컬 〈컴프롬어웨이〉</td>\n",
       "      <td>2023.11.28~2024.02.18</td>\n",
       "      <td>광림아트센터 BBCH홀</td>\n",
       "      <td>http://tkfile.yes24.com/upload2/perfblog/20230...</td>\n",
       "      <td>http://ticket.yes24.com/Perf/47295</td>\n",
       "    </tr>\n",
       "  </tbody>\n",
       "</table>\n",
       "</div>"
      ],
      "text/plain": [
       "  site_name rank                  name                   date  \\\n",
       "0    예스24티켓    1          태양의서커스 〈루치아〉  2023.10.25~2023.12.31   \n",
       "1    예스24티켓    2         뮤지컬 〈드라이 플라워〉  2023.11.07~2024.01.07   \n",
       "2    예스24티켓    3           뮤지컬 〈렛미플라이〉  2023.09.26~2023.12.10   \n",
       "3    예스24티켓    4   화가시리즈 - 뮤지컬 〈에곤 실레〉  2023.12.09~2024.03.10   \n",
       "4    예스24티켓    5     태양의서커스 〈루치아〉 - 부산  2024.01.13~2024.02.04   \n",
       "5    예스24티켓    6  오페레타 뮤지컬 〈판타지아〉 겨울시즌  2023.11.11~2023.12.31   \n",
       "6    예스24티켓    7              뮤지컬 〈칠칠〉  2023.09.05~2023.11.26   \n",
       "7    예스24티켓    8     2023 〈마리 퀴리〉 - 서울  2023.11.24~2024.02.18   \n",
       "8    예스24티켓    9   화가시리즈 - 뮤지컬 〈모딜리아니〉  2023.12.09~2024.03.10   \n",
       "9    예스24티켓   10          뮤지컬 〈컴프롬어웨이〉  2023.11.28~2024.02.18   \n",
       "\n",
       "            location                                            img_url  \\\n",
       "0       잠실종합운동장 내 빅탑  http://tkfile.yes24.com/upload2/perfblog/20230...   \n",
       "1      대학로 드림아트센터 3관  http://tkfile.yes24.com/upload2/perfblog/20231...   \n",
       "2        예스24스테이지 1관  http://tkfile.yes24.com/upload2/perfblog/20231...   \n",
       "3  서경대학교 공연예술센터 스콘2관  http://tkfile.yes24.com/upload2/perfblog/20231...   \n",
       "4      신세계 센텀시티 내 빅탑  http://tkfile.yes24.com/upload2/perfblog/20231...   \n",
       "5      국립중앙박물관 내 극장용  http://tkfile.yes24.com/upload2/perfblog/20231...   \n",
       "6        예스24스테이지 2관  http://tkfile.yes24.com/upload2/perfblog/20230...   \n",
       "7   홍익대 대학로 아트센터 대극장  http://tkfile.yes24.com/upload2/perfblog/20230...   \n",
       "8  서경대학교 공연예술센터 스콘2관  http://tkfile.yes24.com/upload2/perfblog/20231...   \n",
       "9       광림아트센터 BBCH홀  http://tkfile.yes24.com/upload2/perfblog/20230...   \n",
       "\n",
       "                                goods  \n",
       "0  http://ticket.yes24.com/Perf/46305  \n",
       "1  http://ticket.yes24.com/Perf/47290  \n",
       "2  http://ticket.yes24.com/Perf/46671  \n",
       "3  http://ticket.yes24.com/Perf/47421  \n",
       "4  http://ticket.yes24.com/Perf/47394  \n",
       "5  http://ticket.yes24.com/Perf/47090  \n",
       "6  http://ticket.yes24.com/Perf/46662  \n",
       "7  http://ticket.yes24.com/Perf/47226  \n",
       "8  http://ticket.yes24.com/Perf/47420  \n",
       "9  http://ticket.yes24.com/Perf/47295  "
      ]
     },
     "execution_count": 204,
     "metadata": {},
     "output_type": "execute_result"
    }
   ],
   "source": [
    "yes24_df"
   ]
  },
  {
   "cell_type": "code",
   "execution_count": null,
   "id": "17840130-22c7-4bb8-985d-cdfe1eaae6a9",
   "metadata": {},
   "outputs": [],
   "source": []
  },
  {
   "cell_type": "code",
   "execution_count": null,
   "id": "83224536-d682-4e88-9b45-234f96a63f51",
   "metadata": {},
   "outputs": [],
   "source": []
  },
  {
   "cell_type": "code",
   "execution_count": 214,
   "id": "d84a3b9d-6cd9-4005-89b7-c024cf319d32",
   "metadata": {},
   "outputs": [],
   "source": [
    "# play_url = \"http://www.playdb.co.kr/ranking/Ticket/TPBoxOffice.asp?KindOfGoods=01011&Flag=D\"\n",
    "\n",
    "# header = {\n",
    "#     \"User-Agent\": \"Mozilla/5.0 (Windows NT 10.0; Win64; x64) AppleWebKit/537.36 (KHTML, like Gecko) Chrome/119.0.0.0 Safari/537.36\"\n",
    "# }"
   ]
  },
  {
   "cell_type": "code",
   "execution_count": 215,
   "id": "158f28a0-f805-4ad0-b275-47120c43d1b0",
   "metadata": {},
   "outputs": [],
   "source": [
    "# detail_url = \"http://www.playdb.co.kr/gate/PlayGoods_Gate.asp?GoodsCode={}\""
   ]
  },
  {
   "cell_type": "code",
   "execution_count": 234,
   "id": "9de79119-3f0b-4b85-864b-9f478d515015",
   "metadata": {},
   "outputs": [],
   "source": [
    "# r2 = requests.get(play_url, headers=header)\n",
    "# r2"
   ]
  },
  {
   "cell_type": "code",
   "execution_count": 233,
   "id": "d78c575f-f9bc-4d04-8554-0a8d88c1981c",
   "metadata": {},
   "outputs": [],
   "source": [
    "# soup2 = BeautifulSoup(r2.text, \"html.parser\")\n",
    "# soup2"
   ]
  },
  {
   "cell_type": "code",
   "execution_count": null,
   "id": "b2e84d9a-0c97-44d6-95a4-917f40af0898",
   "metadata": {},
   "outputs": [],
   "source": []
  }
 ],
 "metadata": {
  "kernelspec": {
   "display_name": "Python 3 (ipykernel)",
   "language": "python",
   "name": "python3"
  },
  "language_info": {
   "codemirror_mode": {
    "name": "ipython",
    "version": 3
   },
   "file_extension": ".py",
   "mimetype": "text/x-python",
   "name": "python",
   "nbconvert_exporter": "python",
   "pygments_lexer": "ipython3",
   "version": "3.12.0"
  }
 },
 "nbformat": 4,
 "nbformat_minor": 5
}
