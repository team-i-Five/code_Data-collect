{
 "cells": [
  {
   "cell_type": "code",
   "execution_count": 1,
   "id": "47d1cd58-7def-4463-b7b8-f7ac9aac7027",
   "metadata": {},
   "outputs": [],
   "source": [
    "import pickle"
   ]
  },
  {
   "cell_type": "code",
   "execution_count": 2,
   "id": "bc01d19e-2b85-4854-b6ff-b0975c18d62a",
   "metadata": {},
   "outputs": [],
   "source": [
    "with open(\"train_musical_id.pkl\", \"rb\") as file:\n",
    "    train = pickle.load(file)\n",
    "    \n",
    "with open(\"present_musical_id.pkl\", \"rb\") as file:\n",
    "    present = pickle.load(file)\n",
    "    \n",
    "with open(\"future_musical_id.pkl\", \"rb\") as file:\n",
    "    future = pickle.load(file)\n"
   ]
  },
  {
   "cell_type": "code",
   "execution_count": 3,
   "id": "269cbf19-37a1-4045-9042-b2fe6774f58c",
   "metadata": {},
   "outputs": [
    {
     "name": "stdout",
     "output_type": "stream",
     "text": [
      "리스트에 중복된 값이 없습니다.\n"
     ]
    }
   ],
   "source": [
    "# train 데이터 중복값 검증\n",
    "\n",
    "seen = {}\n",
    "is_duplicate = False\n",
    "\n",
    "for i in train:\n",
    "    if i in seen:\n",
    "        is_duplicate = True\n",
    "        break\n",
    "    seen[i] = True\n",
    "\n",
    "if is_duplicate:\n",
    "    print(\"리스트에 중복된 값이 있습니다.\")\n",
    "else:\n",
    "    print(\"리스트에 중복된 값이 없습니다.\")"
   ]
  },
  {
   "cell_type": "code",
   "execution_count": 5,
   "id": "e1f693ed-25ea-4ae4-b76a-2d552ca15845",
   "metadata": {},
   "outputs": [
    {
     "name": "stdout",
     "output_type": "stream",
     "text": [
      "리스트에 중복된 값이 없습니다.\n"
     ]
    }
   ],
   "source": [
    "# 현재 공연 중인 데이터 중복값 검증\n",
    "\n",
    "seen = {}\n",
    "is_duplicate = False\n",
    "\n",
    "for i in present:\n",
    "    if i in seen:\n",
    "        is_duplicate = True\n",
    "        break\n",
    "    seen[i] = True\n",
    "\n",
    "if is_duplicate:\n",
    "    print(\"리스트에 중복된 값이 있습니다.\")\n",
    "else:\n",
    "    print(\"리스트에 중복된 값이 없습니다.\")"
   ]
  },
  {
   "cell_type": "code",
   "execution_count": 6,
   "id": "9d8cec14-ec47-47a4-8e47-c06cd4437a4c",
   "metadata": {},
   "outputs": [
    {
     "name": "stdout",
     "output_type": "stream",
     "text": [
      "리스트에 중복된 값이 없습니다.\n"
     ]
    }
   ],
   "source": [
    "# 공연 예정 중인 데이터 중복값 검증\n",
    "\n",
    "seen = {}\n",
    "is_duplicate = False\n",
    "\n",
    "for i in future:\n",
    "    if i in seen:\n",
    "        is_duplicate = True\n",
    "        break\n",
    "    seen[i] = True\n",
    "\n",
    "if is_duplicate:\n",
    "    print(\"리스트에 중복된 값이 있습니다.\")\n",
    "else:\n",
    "    print(\"리스트에 중복된 값이 없습니다.\")"
   ]
  },
  {
   "cell_type": "code",
   "execution_count": null,
   "id": "5276d206-08fa-4552-9bd7-9e63f01c9556",
   "metadata": {},
   "outputs": [],
   "source": []
  }
 ],
 "metadata": {
  "kernelspec": {
   "display_name": "Python 3 (ipykernel)",
   "language": "python",
   "name": "python3"
  },
  "language_info": {
   "codemirror_mode": {
    "name": "ipython",
    "version": 3
   },
   "file_extension": ".py",
   "mimetype": "text/x-python",
   "name": "python",
   "nbconvert_exporter": "python",
   "pygments_lexer": "ipython3",
   "version": "3.12.0"
  }
 },
 "nbformat": 4,
 "nbformat_minor": 5
}
