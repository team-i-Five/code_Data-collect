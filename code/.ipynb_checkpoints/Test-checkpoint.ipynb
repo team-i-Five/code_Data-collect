{
 "cells": [
  {
   "cell_type": "code",
   "execution_count": 1,
   "id": "e8124df3-4628-45ea-9aaa-246ec4ce407f",
   "metadata": {},
   "outputs": [],
   "source": [
    "import requests"
   ]
  },
  {
   "cell_type": "code",
   "execution_count": 2,
   "id": "70f2a8ef-a770-4190-ad3b-d4e5f7af80b9",
   "metadata": {},
   "outputs": [],
   "source": [
    "url = \"https://www.naver.com/\""
   ]
  },
  {
   "cell_type": "code",
   "execution_count": 3,
   "id": "5919af56-961b-41d8-88ad-c4591bf0a3b7",
   "metadata": {},
   "outputs": [
    {
     "data": {
      "text/plain": [
       "<Response [200]>"
      ]
     },
     "execution_count": 3,
     "metadata": {},
     "output_type": "execute_result"
    }
   ],
   "source": [
    "requests.get(url)"
   ]
  }
 ],
 "metadata": {
  "kernelspec": {
   "display_name": "Python 3 (ipykernel)",
   "language": "python",
   "name": "python3"
  },
  "language_info": {
   "codemirror_mode": {
    "name": "ipython",
    "version": 3
   },
   "file_extension": ".py",
   "mimetype": "text/x-python",
   "name": "python",
   "nbconvert_exporter": "python",
   "pygments_lexer": "ipython3",
   "version": "3.12.0"
  }
 },
 "nbformat": 4,
 "nbformat_minor": 5
}
